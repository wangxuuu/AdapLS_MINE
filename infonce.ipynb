{
 "cells": [
  {
   "cell_type": "markdown",
   "metadata": {},
   "source": [
    "# Estimating MI based on InfoNCE"
   ]
  },
  {
   "source": [
    "## Import packages, set GPU and random seeds"
   ],
   "cell_type": "markdown",
   "metadata": {}
  },
  {
   "source": [
    "import necessary packages"
   ],
   "cell_type": "markdown",
   "metadata": {}
  },
  {
   "cell_type": "code",
   "execution_count": 1,
   "metadata": {},
   "outputs": [],
   "source": [
    "import torch\n",
    "import torch.nn as nn\n",
    "import torch.nn.functional as F\n",
    "import torch.optim as optim\n",
    "import numpy as np\n",
    "import matplotlib.pyplot as plt\n",
    "import argparse\n",
    "from torch.autograd import Variable\n",
    "import itertools\n",
    "from tqdm import tqdm\n",
    "from data.mix_gaussian import MixedGaussian\n",
    "from data.gaussian import Gaussian\n",
    "from model.utils import *\n",
    "\n"
   ]
  },
  {
   "source": [
    "Use GPU if GPU is available."
   ],
   "cell_type": "markdown",
   "metadata": {}
  },
  {
   "cell_type": "code",
   "execution_count": 2,
   "metadata": {},
   "outputs": [],
   "source": [
    "cuda = True if torch.cuda.is_available() else False\n",
    "FloatTensor = torch.cuda.FloatTensor if cuda else torch.FloatTensor\n",
    "LongTensor = torch.cuda.LongTensor if cuda else torch.LongTensor\n",
    "torch.set_default_tensor_type(FloatTensor)"
   ]
  },
  {
   "source": [
    "Set random seed for reproducity."
   ],
   "cell_type": "markdown",
   "metadata": {}
  },
  {
   "cell_type": "code",
   "execution_count": 3,
   "metadata": {},
   "outputs": [],
   "source": [
    "SEED = 0\n",
    "torch.manual_seed(SEED)\n",
    "torch.cuda.manual_seed(SEED)\n",
    "np.random.seed(SEED)"
   ]
  },
  {
   "cell_type": "code",
   "execution_count": 4,
   "metadata": {},
   "outputs": [],
   "source": [
    "## Arguments for running"
   ]
  },
  {
   "cell_type": "code",
   "execution_count": 5,
   "metadata": {},
   "outputs": [],
   "source": [
    "# arguments\n",
    "parser = argparse.ArgumentParser()\n",
    "parser.add_argument(\"--rho\", type=float, default=0.9, help=\"coefficient of Gaussian\")\n",
    "parser.add_argument(\"--gamma\", type=float, default=1e-5, help=\"clip the ratio\")\n",
    "parser.add_argument(\"--d\", type=int, default=10, help=\"dimension of X & Y\")\n",
    "parser.add_argument(\"--sample_size\", type=int, default=1600, help=\"sample size\")\n",
    "parser.add_argument(\"--b1\", type=float, default=0.5, help=\"adam: decay of first order momentum of gradient\")\n",
    "parser.add_argument(\"--b2\", type=float, default=0.999, help=\"adam: decay of first order momentum of gradient\")\n",
    "parser.add_argument(\"--n_iters\", type=int, default=40000, help=\"number of epochs of training\")\n",
    "parser.add_argument(\"--batch_size\", type=int, default=100, help=\"size of the batches\")\n",
    "parser.add_argument(\"--lr\", type=float, default=1e-4, help=\"adam: learning rate\")\n",
    "# parser.add_argument(\"--latent_dim\", type=int, default=1, help=\"dimensionality of the latent space\")\n",
    "parser.add_argument(\"--hidden_dim\", type=int, default=100, help=\"Hidden dimension\")\n",
    "parser.add_argument(\"--alpha\", type=float, default=0.99, help=\"RMSprop: smoothing constant \")\n",
    "parser.add_argument(\"--ma_rate\", type=float, default=0.1, help=\"move average rate\")\n",
    "parser.add_argument(\"--ma_ef\", type=float, default=1, help=\"move average ef\")\n",
    "# parser.add_argument(\"--confidence\", type=float, default=0.005, help=\"smooth parameter\")\n",
    "\n",
    "# opt = parser.parse_args()\n",
    "opt, unknown = parser.parse_known_args()"
   ]
  },
  {
   "cell_type": "code",
   "execution_count": 6,
   "metadata": {},
   "outputs": [],
   "source": [
    "# Decide which kind of distribution to generate; Two choice here: 'Gaussian' and 'MixedGaussian\n",
    "density = 'Gaussian'"
   ]
  },
  {
   "source": [
    "## Define functions and neural networks (NN)"
   ],
   "cell_type": "markdown",
   "metadata": {}
  },
  {
   "source": [
    "Define the function `generate_data` for generating Gaussian or Mixed Gaussian distributions.\n",
    "\n",
    "- When generating Gaussian distrition, ${\\rm X}$ and ${\\rm Y}$ are distributed as \n",
    "$$ p_{\\rm X \\rm Y} = \\prod_{i=1}^d \\mathcal{N} \\left( \\mathbf{0}, \\begin{bmatrix}1 & \\rho \\\\ \\rho & 1\\\\ \\end{bmatrix} \\right) $$\n",
    "\n",
    "- When generating Mixed Gaussian distributions, ${\\rm X}$ and ${\\rm Y}$ are distributed as \n",
    "$$ p_{\\rm X \\rm Y} = \\frac{1}{2} \\prod_{i=1}^d \\mathcal{N} \\left( \\mathbf{0}, \\begin{bmatrix}1 & \\rho \\\\ \\rho & 1\\\\ \\end{bmatrix} \\right) + \\frac{1}{2} \\prod_{i=1}^d \\mathcal{N} \\left( \\mathbf{0}, \\begin{bmatrix}1 & {-} \\rho \\ {-} \\rho & 1\\\\ \\end{bmatrix} \\right) $$ "
   ],
   "cell_type": "markdown",
   "metadata": {}
  },
  {
   "cell_type": "code",
   "execution_count": 7,
   "metadata": {},
   "outputs": [],
   "source": [
    "def generate_data(distribution='Gaussian', rho=0.9):\n",
    "    # rho is the covariance for generating distributions\n",
    "    # mu1 and mu2 are means for generating Mixed Gaussian distribution \n",
    "    mu1 = 0\n",
    "    mu2 = 0\n",
    "\n",
    "    # mg is an object of Class Gaussian or MixedGaussian\n",
    "    if distribution=='Gaussian':\n",
    "        mg = Gaussian(sample_size=opt.sample_size,rho=rho)\n",
    "    else:\n",
    "        mg = MixedGaussian(sample_size=opt.sample_size, mean1=mu1, mean2=mu2,rho1=rho, rho2=-rho)\n",
    "\n",
    "    # Calculate the ground truth MI between X and Y for (X, Y) from mg\n",
    "    mi = mg.ground_truth * opt.d\n",
    "\n",
    "    # Create X, Y for storing generated samples\n",
    "    X = np.zeros((opt.sample_size,opt.d))\n",
    "    Y = np.zeros((opt.sample_size,opt.d))\n",
    "\n",
    "    # Generate samples of random variable X,Y and XY\n",
    "    for j in range(opt.d):\n",
    "        # In each iteration, mg.data will generate samples of two dimensions with one dimension for X and another for Y, respectively \n",
    "        data = mg.data\n",
    "        X[:,j] = data[:,0]\n",
    "        Y[:,j] = data[:,1]        \n",
    "    X = torch.Tensor(X)\n",
    "    Y = torch.Tensor(Y)\n",
    "    XY = torch.cat((X, Y), dim=1)\n",
    "\n",
    "    return XY, X, Y, mi"
   ]
  },
  {
   "source": [
    "Define the neural network."
   ],
   "cell_type": "markdown",
   "metadata": {}
  },
  {
   "cell_type": "code",
   "execution_count": 8,
   "metadata": {},
   "outputs": [],
   "source": [
    "class Net(nn.Module):\n",
    "    # Inner class that defines the neural network architecture\n",
    "    def __init__(self, input_size=2, hidden_size=100, sigma=0.02):\n",
    "        super().__init__()\n",
    "        self.fc1 = nn.Linear(input_size, hidden_size)\n",
    "        self.fc2 = nn.Linear(hidden_size, hidden_size)\n",
    "        self.fc3 = nn.Linear(hidden_size, 1)\n",
    "        nn.init.normal_(self.fc1.weight, std=sigma)\n",
    "        nn.init.constant_(self.fc1.bias, 0)\n",
    "        nn.init.normal_(self.fc2.weight, std=sigma)\n",
    "        nn.init.constant_(self.fc2.bias, 0)\n",
    "        nn.init.normal_(self.fc3.weight, std=sigma)\n",
    "        nn.init.constant_(self.fc3.bias, 0)\n",
    "\n",
    "    def forward(self, input):\n",
    "        output = F.elu(self.fc1(input))\n",
    "        output = F.elu(self.fc2(output))\n",
    "        # output = F.sigmoid(self.fc3(output))\n",
    "        output = self.fc3(output)\n",
    "        return output"
   ]
  },
  {
   "source": [
    "Function `_resample` is for resampling the given data samples for training neural network"
   ],
   "cell_type": "markdown",
   "metadata": {}
  },
  {
   "cell_type": "code",
   "execution_count": 9,
   "metadata": {},
   "outputs": [],
   "source": [
    "def _resample(data, batch_size, replace=False):\n",
    "    # Resample the given data sample.\n",
    "    index = np.random.choice(\n",
    "        range(data.shape[0]), size=batch_size, replace=replace)\n",
    "    batch = data[index]\n",
    "    return batch"
   ]
  },
  {
   "source": [
    "Function `infonce_loss` returns a lower bound of infoNCE loss:\n",
    "$$l_{infoNCE} ({\\rm X}, {\\rm Y})= \\sup \\limits_{f \\in \\mathcal{F}} \\mathbb{E}\\left[\\log \\frac{e^{f({\\rm X}, {\\rm Y})}}{\\mathbb{E} \\left[ e^{f({\\rm X}, {\\rm Y'})} | {\\rm X} \\right]} \\right]$$\n",
    "where `f()` is implemented by a neural network.\n"
   ],
   "cell_type": "markdown",
   "metadata": {}
  },
  {
   "cell_type": "code",
   "execution_count": 10,
   "metadata": {},
   "outputs": [],
   "source": [
    "def infonce_loss(net, x_samples, y_samples):\n",
    "    sample_size = x_samples.shape[0]\n",
    "    x_tile = x_samples.unsqueeze(0).repeat((sample_size, 1, 1))\n",
    "    y_tile = y_samples.unsqueeze(1).repeat((1, sample_size, 1))\n",
    "\n",
    "    T0 = net(torch.cat([x_samples,y_samples], dim = -1))\n",
    "    T1 = net(torch.cat([x_tile, y_tile], dim = -1))  #[sample_size, sample_size, 1]\n",
    "\n",
    "    lower_bound = T0.mean() - (T1.logsumexp(dim = 1).mean() - np.log(sample_size))\n",
    "    return lower_bound"
   ]
  },
  {
   "source": [
    "## Generate samples and train the neural network."
   ],
   "cell_type": "markdown",
   "metadata": {}
  },
  {
   "cell_type": "code",
   "execution_count": 11,
   "metadata": {},
   "outputs": [],
   "source": [
    "discriminator = Net(input_size=opt.d*2, hidden_size=100)\n",
    "# Tensor = torch.cuda.FloatTensor if cuda else torch.FloatTensor\n",
    "\n",
    "bcelogit_loss = nn.BCEWithLogitsLoss()  # loss\n",
    "\n",
    "# move NN model GPU if GPU is available\n",
    "if cuda:\n",
    "    discriminator.cuda()\n",
    "\n",
    "# Adam optimizer\n",
    "optimizer_D = torch.optim.Adam(discriminator.parameters(), lr=opt.lr, betas=(opt.b1, opt.b2))\n"
   ]
  },
  {
   "source": [
    "Generate samples and train the neural network."
   ],
   "cell_type": "markdown",
   "metadata": {}
  },
  {
   "cell_type": "code",
   "execution_count": 12,
   "metadata": {},
   "outputs": [
    {
     "output_type": "stream",
     "name": "stdout",
     "text": [
      "Iternation: 0, loss: -0.000027\n",
      "Iternation: 500, loss: 2.787301\n",
      "Iternation: 1000, loss: 4.095554\n",
      "Iternation: 1500, loss: 4.398554\n",
      "Iternation: 2000, loss: 4.446631\n",
      "Iternation: 2500, loss: 4.493898\n",
      "Iternation: 3000, loss: 4.455656\n",
      "Iternation: 3500, loss: 4.500001\n",
      "Iternation: 4000, loss: 4.477431\n",
      "Iternation: 4500, loss: 4.501705\n",
      "Iternation: 5000, loss: 4.509816\n",
      "Iternation: 5500, loss: 4.508554\n",
      "Iternation: 6000, loss: 4.544929\n",
      "Iternation: 6500, loss: 4.556558\n",
      "Iternation: 7000, loss: 4.514485\n",
      "Iternation: 7500, loss: 4.473107\n",
      "Iternation: 8000, loss: 4.553349\n",
      "Iternation: 8500, loss: 4.565469\n",
      "Iternation: 9000, loss: 4.550261\n",
      "Iternation: 9500, loss: 4.483590\n",
      "Iternation: 10000, loss: 4.556413\n",
      "Iternation: 10500, loss: 4.487988\n",
      "Iternation: 11000, loss: 4.564132\n",
      "Iternation: 11500, loss: 4.537271\n",
      "Iternation: 12000, loss: 4.521422\n",
      "Iternation: 12500, loss: 4.559649\n",
      "Iternation: 13000, loss: 4.563319\n",
      "Iternation: 13500, loss: 4.566533\n",
      "Iternation: 14000, loss: 4.558338\n",
      "Iternation: 14500, loss: 4.526571\n",
      "Iternation: 15000, loss: 4.488736\n",
      "Iternation: 15500, loss: 4.568943\n",
      "Iternation: 16000, loss: 4.557989\n",
      "Iternation: 16500, loss: 4.588388\n",
      "Iternation: 17000, loss: 4.541717\n",
      "Iternation: 17500, loss: 4.583024\n",
      "Iternation: 18000, loss: 4.468713\n",
      "Iternation: 18500, loss: 4.544075\n",
      "Iternation: 19000, loss: 4.474595\n",
      "Iternation: 19500, loss: 4.551040\n",
      "Iternation: 20000, loss: 4.561127\n",
      "Iternation: 20500, loss: 4.525129\n",
      "Iternation: 21000, loss: 4.559439\n",
      "Iternation: 21500, loss: 4.503796\n",
      "Iternation: 22000, loss: 4.581782\n",
      "Iternation: 22500, loss: 4.575066\n",
      "Iternation: 23000, loss: 4.574146\n",
      "Iternation: 23500, loss: 4.564165\n",
      "Iternation: 24000, loss: 4.590734\n",
      "Iternation: 24500, loss: 4.583956\n",
      "Iternation: 25000, loss: 4.553949\n",
      "Iternation: 25500, loss: 4.585326\n",
      "Iternation: 26000, loss: 4.580797\n",
      "Iternation: 26500, loss: 4.540415\n",
      "Iternation: 27000, loss: 4.592276\n",
      "Iternation: 27500, loss: 4.583111\n",
      "Iternation: 28000, loss: 4.600468\n",
      "Iternation: 28500, loss: 4.569783\n",
      "Iternation: 29000, loss: 4.571724\n",
      "Iternation: 29500, loss: 4.600033\n",
      "Iternation: 30000, loss: 4.582647\n",
      "Iternation: 30500, loss: 4.564939\n",
      "Iternation: 31000, loss: 4.592005\n",
      "Iternation: 31500, loss: 4.570681\n",
      "Iternation: 32000, loss: 4.547451\n",
      "Iternation: 32500, loss: 4.571764\n",
      "Iternation: 33000, loss: 4.596559\n",
      "Iternation: 33500, loss: 4.587807\n",
      "Iternation: 34000, loss: 4.520570\n",
      "Iternation: 34500, loss: 4.572693\n",
      "Iternation: 35000, loss: 4.583790\n",
      "Iternation: 35500, loss: 4.579411\n",
      "Iternation: 36000, loss: 4.553925\n",
      "Iternation: 36500, loss: 4.563698\n",
      "Iternation: 37000, loss: 4.581118\n",
      "Iternation: 37500, loss: 4.573557\n",
      "Iternation: 38000, loss: 4.583523\n",
      "Iternation: 38500, loss: 4.558619\n",
      "Iternation: 39000, loss: 4.594528\n",
      "Iternation: 39500, loss: 4.582762\n"
     ]
    }
   ],
   "source": [
    "XY, X, Y, Ground_truth = generate_data(distribution=density, rho=opt.rho)\n",
    "mi_list = [] # storing the infoNCE of each iteration\n",
    "for i in range(opt.n_iters):\n",
    "    data_joint = _resample(XY, batch_size=opt.batch_size)\n",
    "    train_x = data_joint[:,0:opt.d]\n",
    "    train_y = data_joint[:,opt.d:]\n",
    "    \n",
    "    optimizer_D.zero_grad()\n",
    "    loss = -infonce_loss(discriminator, train_x, train_y) # negative infonce_loss as the loss\n",
    "    loss.backward()\n",
    "\n",
    "    optimizer_D.step()\n",
    "    mi_list.append(-loss.item())\n",
    "    if i%500==0:\n",
    "        print(\"Iternation: %d, loss: %f\"%(i, -loss.item()))"
   ]
  },
  {
   "source": [
    "## MI estimation and plottings"
   ],
   "cell_type": "markdown",
   "metadata": {}
  },
  {
   "source": [
    "Use moving average to decide the estimated MI in each iteration in the training"
   ],
   "cell_type": "markdown",
   "metadata": {
    "tags": []
   }
  },
  {
   "cell_type": "code",
   "execution_count": 13,
   "metadata": {},
   "outputs": [],
   "source": [
    "ma_rate = 0.01  # moving average rate\n",
    "mi_copy = mi_list.copy()\n",
    "for k in range(1,len(mi_list)):\n",
    "    mi_copy[k] = (1-ma_rate) * mi_copy[k-1] + ma_rate * mi_copy[k]\n"
   ]
  },
  {
   "source": [
    "Plot the MI estimation curve against the training iteration, togeter the ground truth."
   ],
   "cell_type": "markdown",
   "metadata": {}
  },
  {
   "cell_type": "code",
   "execution_count": 14,
   "metadata": {},
   "outputs": [
    {
     "output_type": "execute_result",
     "data": {
      "text/plain": [
       "<matplotlib.legend.Legend at 0x2575fe05c88>"
      ]
     },
     "metadata": {},
     "execution_count": 14
    },
    {
     "output_type": "display_data",
     "data": {
      "text/plain": "<Figure size 432x288 with 1 Axes>",
      "image/svg+xml": "<?xml version=\"1.0\" encoding=\"utf-8\" standalone=\"no\"?>\r\n<!DOCTYPE svg PUBLIC \"-//W3C//DTD SVG 1.1//EN\"\r\n  \"http://www.w3.org/Graphics/SVG/1.1/DTD/svg11.dtd\">\r\n<!-- Created with matplotlib (https://matplotlib.org/) -->\r\n<svg height=\"277.314375pt\" version=\"1.1\" viewBox=\"0 0 376.936302 277.314375\" width=\"376.936302pt\" xmlns=\"http://www.w3.org/2000/svg\" xmlns:xlink=\"http://www.w3.org/1999/xlink\">\r\n <defs>\r\n  <style type=\"text/css\">\r\n*{stroke-linecap:butt;stroke-linejoin:round;}\r\n  </style>\r\n </defs>\r\n <g id=\"figure_1\">\r\n  <g id=\"patch_1\">\r\n   <path d=\"M 0 277.314375 \r\nL 376.936302 277.314375 \r\nL 376.936302 0 \r\nL 0 0 \r\nz\r\n\" style=\"fill:none;\"/>\r\n  </g>\r\n  <g id=\"axes_1\">\r\n   <g id=\"patch_2\">\r\n    <path d=\"M 34.240625 239.758125 \r\nL 369.040625 239.758125 \r\nL 369.040625 22.318125 \r\nL 34.240625 22.318125 \r\nz\r\n\" style=\"fill:#ffffff;\"/>\r\n   </g>\r\n   <g id=\"matplotlib.axis_1\">\r\n    <g id=\"xtick_1\">\r\n     <g id=\"line2d_1\">\r\n      <defs>\r\n       <path d=\"M 0 0 \r\nL 0 3.5 \r\n\" id=\"m1b3be06d51\" style=\"stroke:#000000;stroke-width:0.8;\"/>\r\n      </defs>\r\n      <g>\r\n       <use style=\"stroke:#000000;stroke-width:0.8;\" x=\"49.458807\" xlink:href=\"#m1b3be06d51\" y=\"239.758125\"/>\r\n      </g>\r\n     </g>\r\n     <g id=\"text_1\">\r\n      <!-- 0 -->\r\n      <defs>\r\n       <path d=\"M 31.78125 66.40625 \r\nQ 24.171875 66.40625 20.328125 58.90625 \r\nQ 16.5 51.421875 16.5 36.375 \r\nQ 16.5 21.390625 20.328125 13.890625 \r\nQ 24.171875 6.390625 31.78125 6.390625 \r\nQ 39.453125 6.390625 43.28125 13.890625 \r\nQ 47.125 21.390625 47.125 36.375 \r\nQ 47.125 51.421875 43.28125 58.90625 \r\nQ 39.453125 66.40625 31.78125 66.40625 \r\nz\r\nM 31.78125 74.21875 \r\nQ 44.046875 74.21875 50.515625 64.515625 \r\nQ 56.984375 54.828125 56.984375 36.375 \r\nQ 56.984375 17.96875 50.515625 8.265625 \r\nQ 44.046875 -1.421875 31.78125 -1.421875 \r\nQ 19.53125 -1.421875 13.0625 8.265625 \r\nQ 6.59375 17.96875 6.59375 36.375 \r\nQ 6.59375 54.828125 13.0625 64.515625 \r\nQ 19.53125 74.21875 31.78125 74.21875 \r\nz\r\n\" id=\"DejaVuSans-48\"/>\r\n      </defs>\r\n      <g transform=\"translate(46.277557 254.356562)scale(0.1 -0.1)\">\r\n       <use xlink:href=\"#DejaVuSans-48\"/>\r\n      </g>\r\n     </g>\r\n    </g>\r\n    <g id=\"xtick_2\">\r\n     <g id=\"line2d_2\">\r\n      <g>\r\n       <use style=\"stroke:#000000;stroke-width:0.8;\" x=\"87.505213\" xlink:href=\"#m1b3be06d51\" y=\"239.758125\"/>\r\n      </g>\r\n     </g>\r\n     <g id=\"text_2\">\r\n      <!-- 5000 -->\r\n      <defs>\r\n       <path d=\"M 10.796875 72.90625 \r\nL 49.515625 72.90625 \r\nL 49.515625 64.59375 \r\nL 19.828125 64.59375 \r\nL 19.828125 46.734375 \r\nQ 21.96875 47.46875 24.109375 47.828125 \r\nQ 26.265625 48.1875 28.421875 48.1875 \r\nQ 40.625 48.1875 47.75 41.5 \r\nQ 54.890625 34.8125 54.890625 23.390625 \r\nQ 54.890625 11.625 47.5625 5.09375 \r\nQ 40.234375 -1.421875 26.90625 -1.421875 \r\nQ 22.3125 -1.421875 17.546875 -0.640625 \r\nQ 12.796875 0.140625 7.71875 1.703125 \r\nL 7.71875 11.625 \r\nQ 12.109375 9.234375 16.796875 8.0625 \r\nQ 21.484375 6.890625 26.703125 6.890625 \r\nQ 35.15625 6.890625 40.078125 11.328125 \r\nQ 45.015625 15.765625 45.015625 23.390625 \r\nQ 45.015625 31 40.078125 35.4375 \r\nQ 35.15625 39.890625 26.703125 39.890625 \r\nQ 22.75 39.890625 18.8125 39.015625 \r\nQ 14.890625 38.140625 10.796875 36.28125 \r\nz\r\n\" id=\"DejaVuSans-53\"/>\r\n      </defs>\r\n      <g transform=\"translate(74.780213 254.356562)scale(0.1 -0.1)\">\r\n       <use xlink:href=\"#DejaVuSans-53\"/>\r\n       <use x=\"63.623047\" xlink:href=\"#DejaVuSans-48\"/>\r\n       <use x=\"127.246094\" xlink:href=\"#DejaVuSans-48\"/>\r\n       <use x=\"190.869141\" xlink:href=\"#DejaVuSans-48\"/>\r\n      </g>\r\n     </g>\r\n    </g>\r\n    <g id=\"xtick_3\">\r\n     <g id=\"line2d_3\">\r\n      <g>\r\n       <use style=\"stroke:#000000;stroke-width:0.8;\" x=\"125.551618\" xlink:href=\"#m1b3be06d51\" y=\"239.758125\"/>\r\n      </g>\r\n     </g>\r\n     <g id=\"text_3\">\r\n      <!-- 10000 -->\r\n      <defs>\r\n       <path d=\"M 12.40625 8.296875 \r\nL 28.515625 8.296875 \r\nL 28.515625 63.921875 \r\nL 10.984375 60.40625 \r\nL 10.984375 69.390625 \r\nL 28.421875 72.90625 \r\nL 38.28125 72.90625 \r\nL 38.28125 8.296875 \r\nL 54.390625 8.296875 \r\nL 54.390625 0 \r\nL 12.40625 0 \r\nz\r\n\" id=\"DejaVuSans-49\"/>\r\n      </defs>\r\n      <g transform=\"translate(109.645368 254.356562)scale(0.1 -0.1)\">\r\n       <use xlink:href=\"#DejaVuSans-49\"/>\r\n       <use x=\"63.623047\" xlink:href=\"#DejaVuSans-48\"/>\r\n       <use x=\"127.246094\" xlink:href=\"#DejaVuSans-48\"/>\r\n       <use x=\"190.869141\" xlink:href=\"#DejaVuSans-48\"/>\r\n       <use x=\"254.492188\" xlink:href=\"#DejaVuSans-48\"/>\r\n      </g>\r\n     </g>\r\n    </g>\r\n    <g id=\"xtick_4\">\r\n     <g id=\"line2d_4\">\r\n      <g>\r\n       <use style=\"stroke:#000000;stroke-width:0.8;\" x=\"163.598024\" xlink:href=\"#m1b3be06d51\" y=\"239.758125\"/>\r\n      </g>\r\n     </g>\r\n     <g id=\"text_4\">\r\n      <!-- 15000 -->\r\n      <g transform=\"translate(147.691774 254.356562)scale(0.1 -0.1)\">\r\n       <use xlink:href=\"#DejaVuSans-49\"/>\r\n       <use x=\"63.623047\" xlink:href=\"#DejaVuSans-53\"/>\r\n       <use x=\"127.246094\" xlink:href=\"#DejaVuSans-48\"/>\r\n       <use x=\"190.869141\" xlink:href=\"#DejaVuSans-48\"/>\r\n       <use x=\"254.492188\" xlink:href=\"#DejaVuSans-48\"/>\r\n      </g>\r\n     </g>\r\n    </g>\r\n    <g id=\"xtick_5\">\r\n     <g id=\"line2d_5\">\r\n      <g>\r\n       <use style=\"stroke:#000000;stroke-width:0.8;\" x=\"201.64443\" xlink:href=\"#m1b3be06d51\" y=\"239.758125\"/>\r\n      </g>\r\n     </g>\r\n     <g id=\"text_5\">\r\n      <!-- 20000 -->\r\n      <defs>\r\n       <path d=\"M 19.1875 8.296875 \r\nL 53.609375 8.296875 \r\nL 53.609375 0 \r\nL 7.328125 0 \r\nL 7.328125 8.296875 \r\nQ 12.9375 14.109375 22.625 23.890625 \r\nQ 32.328125 33.6875 34.8125 36.53125 \r\nQ 39.546875 41.84375 41.421875 45.53125 \r\nQ 43.3125 49.21875 43.3125 52.78125 \r\nQ 43.3125 58.59375 39.234375 62.25 \r\nQ 35.15625 65.921875 28.609375 65.921875 \r\nQ 23.96875 65.921875 18.8125 64.3125 \r\nQ 13.671875 62.703125 7.8125 59.421875 \r\nL 7.8125 69.390625 \r\nQ 13.765625 71.78125 18.9375 73 \r\nQ 24.125 74.21875 28.421875 74.21875 \r\nQ 39.75 74.21875 46.484375 68.546875 \r\nQ 53.21875 62.890625 53.21875 53.421875 \r\nQ 53.21875 48.921875 51.53125 44.890625 \r\nQ 49.859375 40.875 45.40625 35.40625 \r\nQ 44.1875 33.984375 37.640625 27.21875 \r\nQ 31.109375 20.453125 19.1875 8.296875 \r\nz\r\n\" id=\"DejaVuSans-50\"/>\r\n      </defs>\r\n      <g transform=\"translate(185.73818 254.356562)scale(0.1 -0.1)\">\r\n       <use xlink:href=\"#DejaVuSans-50\"/>\r\n       <use x=\"63.623047\" xlink:href=\"#DejaVuSans-48\"/>\r\n       <use x=\"127.246094\" xlink:href=\"#DejaVuSans-48\"/>\r\n       <use x=\"190.869141\" xlink:href=\"#DejaVuSans-48\"/>\r\n       <use x=\"254.492188\" xlink:href=\"#DejaVuSans-48\"/>\r\n      </g>\r\n     </g>\r\n    </g>\r\n    <g id=\"xtick_6\">\r\n     <g id=\"line2d_6\">\r\n      <g>\r\n       <use style=\"stroke:#000000;stroke-width:0.8;\" x=\"239.690835\" xlink:href=\"#m1b3be06d51\" y=\"239.758125\"/>\r\n      </g>\r\n     </g>\r\n     <g id=\"text_6\">\r\n      <!-- 25000 -->\r\n      <g transform=\"translate(223.784585 254.356562)scale(0.1 -0.1)\">\r\n       <use xlink:href=\"#DejaVuSans-50\"/>\r\n       <use x=\"63.623047\" xlink:href=\"#DejaVuSans-53\"/>\r\n       <use x=\"127.246094\" xlink:href=\"#DejaVuSans-48\"/>\r\n       <use x=\"190.869141\" xlink:href=\"#DejaVuSans-48\"/>\r\n       <use x=\"254.492188\" xlink:href=\"#DejaVuSans-48\"/>\r\n      </g>\r\n     </g>\r\n    </g>\r\n    <g id=\"xtick_7\">\r\n     <g id=\"line2d_7\">\r\n      <g>\r\n       <use style=\"stroke:#000000;stroke-width:0.8;\" x=\"277.737241\" xlink:href=\"#m1b3be06d51\" y=\"239.758125\"/>\r\n      </g>\r\n     </g>\r\n     <g id=\"text_7\">\r\n      <!-- 30000 -->\r\n      <defs>\r\n       <path d=\"M 40.578125 39.3125 \r\nQ 47.65625 37.796875 51.625 33 \r\nQ 55.609375 28.21875 55.609375 21.1875 \r\nQ 55.609375 10.40625 48.1875 4.484375 \r\nQ 40.765625 -1.421875 27.09375 -1.421875 \r\nQ 22.515625 -1.421875 17.65625 -0.515625 \r\nQ 12.796875 0.390625 7.625 2.203125 \r\nL 7.625 11.71875 \r\nQ 11.71875 9.328125 16.59375 8.109375 \r\nQ 21.484375 6.890625 26.8125 6.890625 \r\nQ 36.078125 6.890625 40.9375 10.546875 \r\nQ 45.796875 14.203125 45.796875 21.1875 \r\nQ 45.796875 27.640625 41.28125 31.265625 \r\nQ 36.765625 34.90625 28.71875 34.90625 \r\nL 20.21875 34.90625 \r\nL 20.21875 43.015625 \r\nL 29.109375 43.015625 \r\nQ 36.375 43.015625 40.234375 45.921875 \r\nQ 44.09375 48.828125 44.09375 54.296875 \r\nQ 44.09375 59.90625 40.109375 62.90625 \r\nQ 36.140625 65.921875 28.71875 65.921875 \r\nQ 24.65625 65.921875 20.015625 65.03125 \r\nQ 15.375 64.15625 9.8125 62.3125 \r\nL 9.8125 71.09375 \r\nQ 15.4375 72.65625 20.34375 73.4375 \r\nQ 25.25 74.21875 29.59375 74.21875 \r\nQ 40.828125 74.21875 47.359375 69.109375 \r\nQ 53.90625 64.015625 53.90625 55.328125 \r\nQ 53.90625 49.265625 50.4375 45.09375 \r\nQ 46.96875 40.921875 40.578125 39.3125 \r\nz\r\n\" id=\"DejaVuSans-51\"/>\r\n      </defs>\r\n      <g transform=\"translate(261.830991 254.356562)scale(0.1 -0.1)\">\r\n       <use xlink:href=\"#DejaVuSans-51\"/>\r\n       <use x=\"63.623047\" xlink:href=\"#DejaVuSans-48\"/>\r\n       <use x=\"127.246094\" xlink:href=\"#DejaVuSans-48\"/>\r\n       <use x=\"190.869141\" xlink:href=\"#DejaVuSans-48\"/>\r\n       <use x=\"254.492188\" xlink:href=\"#DejaVuSans-48\"/>\r\n      </g>\r\n     </g>\r\n    </g>\r\n    <g id=\"xtick_8\">\r\n     <g id=\"line2d_8\">\r\n      <g>\r\n       <use style=\"stroke:#000000;stroke-width:0.8;\" x=\"315.783647\" xlink:href=\"#m1b3be06d51\" y=\"239.758125\"/>\r\n      </g>\r\n     </g>\r\n     <g id=\"text_8\">\r\n      <!-- 35000 -->\r\n      <g transform=\"translate(299.877397 254.356562)scale(0.1 -0.1)\">\r\n       <use xlink:href=\"#DejaVuSans-51\"/>\r\n       <use x=\"63.623047\" xlink:href=\"#DejaVuSans-53\"/>\r\n       <use x=\"127.246094\" xlink:href=\"#DejaVuSans-48\"/>\r\n       <use x=\"190.869141\" xlink:href=\"#DejaVuSans-48\"/>\r\n       <use x=\"254.492188\" xlink:href=\"#DejaVuSans-48\"/>\r\n      </g>\r\n     </g>\r\n    </g>\r\n    <g id=\"xtick_9\">\r\n     <g id=\"line2d_9\">\r\n      <g>\r\n       <use style=\"stroke:#000000;stroke-width:0.8;\" x=\"353.830052\" xlink:href=\"#m1b3be06d51\" y=\"239.758125\"/>\r\n      </g>\r\n     </g>\r\n     <g id=\"text_9\">\r\n      <!-- 40000 -->\r\n      <defs>\r\n       <path d=\"M 37.796875 64.3125 \r\nL 12.890625 25.390625 \r\nL 37.796875 25.390625 \r\nz\r\nM 35.203125 72.90625 \r\nL 47.609375 72.90625 \r\nL 47.609375 25.390625 \r\nL 58.015625 25.390625 \r\nL 58.015625 17.1875 \r\nL 47.609375 17.1875 \r\nL 47.609375 0 \r\nL 37.796875 0 \r\nL 37.796875 17.1875 \r\nL 4.890625 17.1875 \r\nL 4.890625 26.703125 \r\nz\r\n\" id=\"DejaVuSans-52\"/>\r\n      </defs>\r\n      <g transform=\"translate(337.923802 254.356562)scale(0.1 -0.1)\">\r\n       <use xlink:href=\"#DejaVuSans-52\"/>\r\n       <use x=\"63.623047\" xlink:href=\"#DejaVuSans-48\"/>\r\n       <use x=\"127.246094\" xlink:href=\"#DejaVuSans-48\"/>\r\n       <use x=\"190.869141\" xlink:href=\"#DejaVuSans-48\"/>\r\n       <use x=\"254.492188\" xlink:href=\"#DejaVuSans-48\"/>\r\n      </g>\r\n     </g>\r\n    </g>\r\n    <g id=\"text_10\">\r\n     <!-- number of iterations -->\r\n     <defs>\r\n      <path d=\"M 54.890625 33.015625 \r\nL 54.890625 0 \r\nL 45.90625 0 \r\nL 45.90625 32.71875 \r\nQ 45.90625 40.484375 42.875 44.328125 \r\nQ 39.84375 48.1875 33.796875 48.1875 \r\nQ 26.515625 48.1875 22.3125 43.546875 \r\nQ 18.109375 38.921875 18.109375 30.90625 \r\nL 18.109375 0 \r\nL 9.078125 0 \r\nL 9.078125 54.6875 \r\nL 18.109375 54.6875 \r\nL 18.109375 46.1875 \r\nQ 21.34375 51.125 25.703125 53.5625 \r\nQ 30.078125 56 35.796875 56 \r\nQ 45.21875 56 50.046875 50.171875 \r\nQ 54.890625 44.34375 54.890625 33.015625 \r\nz\r\n\" id=\"DejaVuSans-110\"/>\r\n      <path d=\"M 8.5 21.578125 \r\nL 8.5 54.6875 \r\nL 17.484375 54.6875 \r\nL 17.484375 21.921875 \r\nQ 17.484375 14.15625 20.5 10.265625 \r\nQ 23.53125 6.390625 29.59375 6.390625 \r\nQ 36.859375 6.390625 41.078125 11.03125 \r\nQ 45.3125 15.671875 45.3125 23.6875 \r\nL 45.3125 54.6875 \r\nL 54.296875 54.6875 \r\nL 54.296875 0 \r\nL 45.3125 0 \r\nL 45.3125 8.40625 \r\nQ 42.046875 3.421875 37.71875 1 \r\nQ 33.40625 -1.421875 27.6875 -1.421875 \r\nQ 18.265625 -1.421875 13.375 4.4375 \r\nQ 8.5 10.296875 8.5 21.578125 \r\nz\r\nM 31.109375 56 \r\nz\r\n\" id=\"DejaVuSans-117\"/>\r\n      <path d=\"M 52 44.1875 \r\nQ 55.375 50.25 60.0625 53.125 \r\nQ 64.75 56 71.09375 56 \r\nQ 79.640625 56 84.28125 50.015625 \r\nQ 88.921875 44.046875 88.921875 33.015625 \r\nL 88.921875 0 \r\nL 79.890625 0 \r\nL 79.890625 32.71875 \r\nQ 79.890625 40.578125 77.09375 44.375 \r\nQ 74.3125 48.1875 68.609375 48.1875 \r\nQ 61.625 48.1875 57.5625 43.546875 \r\nQ 53.515625 38.921875 53.515625 30.90625 \r\nL 53.515625 0 \r\nL 44.484375 0 \r\nL 44.484375 32.71875 \r\nQ 44.484375 40.625 41.703125 44.40625 \r\nQ 38.921875 48.1875 33.109375 48.1875 \r\nQ 26.21875 48.1875 22.15625 43.53125 \r\nQ 18.109375 38.875 18.109375 30.90625 \r\nL 18.109375 0 \r\nL 9.078125 0 \r\nL 9.078125 54.6875 \r\nL 18.109375 54.6875 \r\nL 18.109375 46.1875 \r\nQ 21.1875 51.21875 25.484375 53.609375 \r\nQ 29.78125 56 35.6875 56 \r\nQ 41.65625 56 45.828125 52.96875 \r\nQ 50 49.953125 52 44.1875 \r\nz\r\n\" id=\"DejaVuSans-109\"/>\r\n      <path d=\"M 48.6875 27.296875 \r\nQ 48.6875 37.203125 44.609375 42.84375 \r\nQ 40.53125 48.484375 33.40625 48.484375 \r\nQ 26.265625 48.484375 22.1875 42.84375 \r\nQ 18.109375 37.203125 18.109375 27.296875 \r\nQ 18.109375 17.390625 22.1875 11.75 \r\nQ 26.265625 6.109375 33.40625 6.109375 \r\nQ 40.53125 6.109375 44.609375 11.75 \r\nQ 48.6875 17.390625 48.6875 27.296875 \r\nz\r\nM 18.109375 46.390625 \r\nQ 20.953125 51.265625 25.265625 53.625 \r\nQ 29.59375 56 35.59375 56 \r\nQ 45.5625 56 51.78125 48.09375 \r\nQ 58.015625 40.1875 58.015625 27.296875 \r\nQ 58.015625 14.40625 51.78125 6.484375 \r\nQ 45.5625 -1.421875 35.59375 -1.421875 \r\nQ 29.59375 -1.421875 25.265625 0.953125 \r\nQ 20.953125 3.328125 18.109375 8.203125 \r\nL 18.109375 0 \r\nL 9.078125 0 \r\nL 9.078125 75.984375 \r\nL 18.109375 75.984375 \r\nz\r\n\" id=\"DejaVuSans-98\"/>\r\n      <path d=\"M 56.203125 29.59375 \r\nL 56.203125 25.203125 \r\nL 14.890625 25.203125 \r\nQ 15.484375 15.921875 20.484375 11.0625 \r\nQ 25.484375 6.203125 34.421875 6.203125 \r\nQ 39.59375 6.203125 44.453125 7.46875 \r\nQ 49.3125 8.734375 54.109375 11.28125 \r\nL 54.109375 2.78125 \r\nQ 49.265625 0.734375 44.1875 -0.34375 \r\nQ 39.109375 -1.421875 33.890625 -1.421875 \r\nQ 20.796875 -1.421875 13.15625 6.1875 \r\nQ 5.515625 13.8125 5.515625 26.8125 \r\nQ 5.515625 40.234375 12.765625 48.109375 \r\nQ 20.015625 56 32.328125 56 \r\nQ 43.359375 56 49.78125 48.890625 \r\nQ 56.203125 41.796875 56.203125 29.59375 \r\nz\r\nM 47.21875 32.234375 \r\nQ 47.125 39.59375 43.09375 43.984375 \r\nQ 39.0625 48.390625 32.421875 48.390625 \r\nQ 24.90625 48.390625 20.390625 44.140625 \r\nQ 15.875 39.890625 15.1875 32.171875 \r\nz\r\n\" id=\"DejaVuSans-101\"/>\r\n      <path d=\"M 41.109375 46.296875 \r\nQ 39.59375 47.171875 37.8125 47.578125 \r\nQ 36.03125 48 33.890625 48 \r\nQ 26.265625 48 22.1875 43.046875 \r\nQ 18.109375 38.09375 18.109375 28.8125 \r\nL 18.109375 0 \r\nL 9.078125 0 \r\nL 9.078125 54.6875 \r\nL 18.109375 54.6875 \r\nL 18.109375 46.1875 \r\nQ 20.953125 51.171875 25.484375 53.578125 \r\nQ 30.03125 56 36.53125 56 \r\nQ 37.453125 56 38.578125 55.875 \r\nQ 39.703125 55.765625 41.0625 55.515625 \r\nz\r\n\" id=\"DejaVuSans-114\"/>\r\n      <path id=\"DejaVuSans-32\"/>\r\n      <path d=\"M 30.609375 48.390625 \r\nQ 23.390625 48.390625 19.1875 42.75 \r\nQ 14.984375 37.109375 14.984375 27.296875 \r\nQ 14.984375 17.484375 19.15625 11.84375 \r\nQ 23.34375 6.203125 30.609375 6.203125 \r\nQ 37.796875 6.203125 41.984375 11.859375 \r\nQ 46.1875 17.53125 46.1875 27.296875 \r\nQ 46.1875 37.015625 41.984375 42.703125 \r\nQ 37.796875 48.390625 30.609375 48.390625 \r\nz\r\nM 30.609375 56 \r\nQ 42.328125 56 49.015625 48.375 \r\nQ 55.71875 40.765625 55.71875 27.296875 \r\nQ 55.71875 13.875 49.015625 6.21875 \r\nQ 42.328125 -1.421875 30.609375 -1.421875 \r\nQ 18.84375 -1.421875 12.171875 6.21875 \r\nQ 5.515625 13.875 5.515625 27.296875 \r\nQ 5.515625 40.765625 12.171875 48.375 \r\nQ 18.84375 56 30.609375 56 \r\nz\r\n\" id=\"DejaVuSans-111\"/>\r\n      <path d=\"M 37.109375 75.984375 \r\nL 37.109375 68.5 \r\nL 28.515625 68.5 \r\nQ 23.6875 68.5 21.796875 66.546875 \r\nQ 19.921875 64.59375 19.921875 59.515625 \r\nL 19.921875 54.6875 \r\nL 34.71875 54.6875 \r\nL 34.71875 47.703125 \r\nL 19.921875 47.703125 \r\nL 19.921875 0 \r\nL 10.890625 0 \r\nL 10.890625 47.703125 \r\nL 2.296875 47.703125 \r\nL 2.296875 54.6875 \r\nL 10.890625 54.6875 \r\nL 10.890625 58.5 \r\nQ 10.890625 67.625 15.140625 71.796875 \r\nQ 19.390625 75.984375 28.609375 75.984375 \r\nz\r\n\" id=\"DejaVuSans-102\"/>\r\n      <path d=\"M 9.421875 54.6875 \r\nL 18.40625 54.6875 \r\nL 18.40625 0 \r\nL 9.421875 0 \r\nz\r\nM 9.421875 75.984375 \r\nL 18.40625 75.984375 \r\nL 18.40625 64.59375 \r\nL 9.421875 64.59375 \r\nz\r\n\" id=\"DejaVuSans-105\"/>\r\n      <path d=\"M 18.3125 70.21875 \r\nL 18.3125 54.6875 \r\nL 36.8125 54.6875 \r\nL 36.8125 47.703125 \r\nL 18.3125 47.703125 \r\nL 18.3125 18.015625 \r\nQ 18.3125 11.328125 20.140625 9.421875 \r\nQ 21.96875 7.515625 27.59375 7.515625 \r\nL 36.8125 7.515625 \r\nL 36.8125 0 \r\nL 27.59375 0 \r\nQ 17.1875 0 13.234375 3.875 \r\nQ 9.28125 7.765625 9.28125 18.015625 \r\nL 9.28125 47.703125 \r\nL 2.6875 47.703125 \r\nL 2.6875 54.6875 \r\nL 9.28125 54.6875 \r\nL 9.28125 70.21875 \r\nz\r\n\" id=\"DejaVuSans-116\"/>\r\n      <path d=\"M 34.28125 27.484375 \r\nQ 23.390625 27.484375 19.1875 25 \r\nQ 14.984375 22.515625 14.984375 16.5 \r\nQ 14.984375 11.71875 18.140625 8.90625 \r\nQ 21.296875 6.109375 26.703125 6.109375 \r\nQ 34.1875 6.109375 38.703125 11.40625 \r\nQ 43.21875 16.703125 43.21875 25.484375 \r\nL 43.21875 27.484375 \r\nz\r\nM 52.203125 31.203125 \r\nL 52.203125 0 \r\nL 43.21875 0 \r\nL 43.21875 8.296875 \r\nQ 40.140625 3.328125 35.546875 0.953125 \r\nQ 30.953125 -1.421875 24.3125 -1.421875 \r\nQ 15.921875 -1.421875 10.953125 3.296875 \r\nQ 6 8.015625 6 15.921875 \r\nQ 6 25.140625 12.171875 29.828125 \r\nQ 18.359375 34.515625 30.609375 34.515625 \r\nL 43.21875 34.515625 \r\nL 43.21875 35.40625 \r\nQ 43.21875 41.609375 39.140625 45 \r\nQ 35.0625 48.390625 27.6875 48.390625 \r\nQ 23 48.390625 18.546875 47.265625 \r\nQ 14.109375 46.140625 10.015625 43.890625 \r\nL 10.015625 52.203125 \r\nQ 14.9375 54.109375 19.578125 55.046875 \r\nQ 24.21875 56 28.609375 56 \r\nQ 40.484375 56 46.34375 49.84375 \r\nQ 52.203125 43.703125 52.203125 31.203125 \r\nz\r\n\" id=\"DejaVuSans-97\"/>\r\n      <path d=\"M 44.28125 53.078125 \r\nL 44.28125 44.578125 \r\nQ 40.484375 46.53125 36.375 47.5 \r\nQ 32.28125 48.484375 27.875 48.484375 \r\nQ 21.1875 48.484375 17.84375 46.4375 \r\nQ 14.5 44.390625 14.5 40.28125 \r\nQ 14.5 37.15625 16.890625 35.375 \r\nQ 19.28125 33.59375 26.515625 31.984375 \r\nL 29.59375 31.296875 \r\nQ 39.15625 29.25 43.1875 25.515625 \r\nQ 47.21875 21.78125 47.21875 15.09375 \r\nQ 47.21875 7.46875 41.1875 3.015625 \r\nQ 35.15625 -1.421875 24.609375 -1.421875 \r\nQ 20.21875 -1.421875 15.453125 -0.5625 \r\nQ 10.6875 0.296875 5.421875 2 \r\nL 5.421875 11.28125 \r\nQ 10.40625 8.6875 15.234375 7.390625 \r\nQ 20.0625 6.109375 24.8125 6.109375 \r\nQ 31.15625 6.109375 34.5625 8.28125 \r\nQ 37.984375 10.453125 37.984375 14.40625 \r\nQ 37.984375 18.0625 35.515625 20.015625 \r\nQ 33.0625 21.96875 24.703125 23.78125 \r\nL 21.578125 24.515625 \r\nQ 13.234375 26.265625 9.515625 29.90625 \r\nQ 5.8125 33.546875 5.8125 39.890625 \r\nQ 5.8125 47.609375 11.28125 51.796875 \r\nQ 16.75 56 26.8125 56 \r\nQ 31.78125 56 36.171875 55.265625 \r\nQ 40.578125 54.546875 44.28125 53.078125 \r\nz\r\n\" id=\"DejaVuSans-115\"/>\r\n     </defs>\r\n     <g transform=\"translate(150.401563 268.034687)scale(0.1 -0.1)\">\r\n      <use xlink:href=\"#DejaVuSans-110\"/>\r\n      <use x=\"63.378906\" xlink:href=\"#DejaVuSans-117\"/>\r\n      <use x=\"126.757812\" xlink:href=\"#DejaVuSans-109\"/>\r\n      <use x=\"224.169922\" xlink:href=\"#DejaVuSans-98\"/>\r\n      <use x=\"287.646484\" xlink:href=\"#DejaVuSans-101\"/>\r\n      <use x=\"349.169922\" xlink:href=\"#DejaVuSans-114\"/>\r\n      <use x=\"390.283203\" xlink:href=\"#DejaVuSans-32\"/>\r\n      <use x=\"422.070312\" xlink:href=\"#DejaVuSans-111\"/>\r\n      <use x=\"483.251953\" xlink:href=\"#DejaVuSans-102\"/>\r\n      <use x=\"518.457031\" xlink:href=\"#DejaVuSans-32\"/>\r\n      <use x=\"550.244141\" xlink:href=\"#DejaVuSans-105\"/>\r\n      <use x=\"578.027344\" xlink:href=\"#DejaVuSans-116\"/>\r\n      <use x=\"617.236328\" xlink:href=\"#DejaVuSans-101\"/>\r\n      <use x=\"678.759766\" xlink:href=\"#DejaVuSans-114\"/>\r\n      <use x=\"719.873047\" xlink:href=\"#DejaVuSans-97\"/>\r\n      <use x=\"781.152344\" xlink:href=\"#DejaVuSans-116\"/>\r\n      <use x=\"820.361328\" xlink:href=\"#DejaVuSans-105\"/>\r\n      <use x=\"848.144531\" xlink:href=\"#DejaVuSans-111\"/>\r\n      <use x=\"909.326172\" xlink:href=\"#DejaVuSans-110\"/>\r\n      <use x=\"972.705078\" xlink:href=\"#DejaVuSans-115\"/>\r\n     </g>\r\n    </g>\r\n   </g>\r\n   <g id=\"matplotlib.axis_2\">\r\n    <g id=\"ytick_1\">\r\n     <g id=\"line2d_10\">\r\n      <defs>\r\n       <path d=\"M 0 0 \r\nL -3.5 0 \r\n\" id=\"m447c3b38fd\" style=\"stroke:#000000;stroke-width:0.8;\"/>\r\n      </defs>\r\n      <g>\r\n       <use style=\"stroke:#000000;stroke-width:0.8;\" x=\"34.240625\" xlink:href=\"#m447c3b38fd\" y=\"229.873858\"/>\r\n      </g>\r\n     </g>\r\n     <g id=\"text_11\">\r\n      <!-- 0 -->\r\n      <g transform=\"translate(20.878125 233.673077)scale(0.1 -0.1)\">\r\n       <use xlink:href=\"#DejaVuSans-48\"/>\r\n      </g>\r\n     </g>\r\n    </g>\r\n    <g id=\"ytick_2\">\r\n     <g id=\"line2d_11\">\r\n      <g>\r\n       <use style=\"stroke:#000000;stroke-width:0.8;\" x=\"34.240625\" xlink:href=\"#m447c3b38fd\" y=\"182.262999\"/>\r\n      </g>\r\n     </g>\r\n     <g id=\"text_12\">\r\n      <!-- 2 -->\r\n      <g transform=\"translate(20.878125 186.062218)scale(0.1 -0.1)\">\r\n       <use xlink:href=\"#DejaVuSans-50\"/>\r\n      </g>\r\n     </g>\r\n    </g>\r\n    <g id=\"ytick_3\">\r\n     <g id=\"line2d_12\">\r\n      <g>\r\n       <use style=\"stroke:#000000;stroke-width:0.8;\" x=\"34.240625\" xlink:href=\"#m447c3b38fd\" y=\"134.652141\"/>\r\n      </g>\r\n     </g>\r\n     <g id=\"text_13\">\r\n      <!-- 4 -->\r\n      <g transform=\"translate(20.878125 138.451359)scale(0.1 -0.1)\">\r\n       <use xlink:href=\"#DejaVuSans-52\"/>\r\n      </g>\r\n     </g>\r\n    </g>\r\n    <g id=\"ytick_4\">\r\n     <g id=\"line2d_13\">\r\n      <g>\r\n       <use style=\"stroke:#000000;stroke-width:0.8;\" x=\"34.240625\" xlink:href=\"#m447c3b38fd\" y=\"87.041282\"/>\r\n      </g>\r\n     </g>\r\n     <g id=\"text_14\">\r\n      <!-- 6 -->\r\n      <defs>\r\n       <path d=\"M 33.015625 40.375 \r\nQ 26.375 40.375 22.484375 35.828125 \r\nQ 18.609375 31.296875 18.609375 23.390625 \r\nQ 18.609375 15.53125 22.484375 10.953125 \r\nQ 26.375 6.390625 33.015625 6.390625 \r\nQ 39.65625 6.390625 43.53125 10.953125 \r\nQ 47.40625 15.53125 47.40625 23.390625 \r\nQ 47.40625 31.296875 43.53125 35.828125 \r\nQ 39.65625 40.375 33.015625 40.375 \r\nz\r\nM 52.59375 71.296875 \r\nL 52.59375 62.3125 \r\nQ 48.875 64.0625 45.09375 64.984375 \r\nQ 41.3125 65.921875 37.59375 65.921875 \r\nQ 27.828125 65.921875 22.671875 59.328125 \r\nQ 17.53125 52.734375 16.796875 39.40625 \r\nQ 19.671875 43.65625 24.015625 45.921875 \r\nQ 28.375 48.1875 33.59375 48.1875 \r\nQ 44.578125 48.1875 50.953125 41.515625 \r\nQ 57.328125 34.859375 57.328125 23.390625 \r\nQ 57.328125 12.15625 50.6875 5.359375 \r\nQ 44.046875 -1.421875 33.015625 -1.421875 \r\nQ 20.359375 -1.421875 13.671875 8.265625 \r\nQ 6.984375 17.96875 6.984375 36.375 \r\nQ 6.984375 53.65625 15.1875 63.9375 \r\nQ 23.390625 74.21875 37.203125 74.21875 \r\nQ 40.921875 74.21875 44.703125 73.484375 \r\nQ 48.484375 72.75 52.59375 71.296875 \r\nz\r\n\" id=\"DejaVuSans-54\"/>\r\n      </defs>\r\n      <g transform=\"translate(20.878125 90.840501)scale(0.1 -0.1)\">\r\n       <use xlink:href=\"#DejaVuSans-54\"/>\r\n      </g>\r\n     </g>\r\n    </g>\r\n    <g id=\"ytick_5\">\r\n     <g id=\"line2d_14\">\r\n      <g>\r\n       <use style=\"stroke:#000000;stroke-width:0.8;\" x=\"34.240625\" xlink:href=\"#m447c3b38fd\" y=\"39.430424\"/>\r\n      </g>\r\n     </g>\r\n     <g id=\"text_15\">\r\n      <!-- 8 -->\r\n      <defs>\r\n       <path d=\"M 31.78125 34.625 \r\nQ 24.75 34.625 20.71875 30.859375 \r\nQ 16.703125 27.09375 16.703125 20.515625 \r\nQ 16.703125 13.921875 20.71875 10.15625 \r\nQ 24.75 6.390625 31.78125 6.390625 \r\nQ 38.8125 6.390625 42.859375 10.171875 \r\nQ 46.921875 13.96875 46.921875 20.515625 \r\nQ 46.921875 27.09375 42.890625 30.859375 \r\nQ 38.875 34.625 31.78125 34.625 \r\nz\r\nM 21.921875 38.8125 \r\nQ 15.578125 40.375 12.03125 44.71875 \r\nQ 8.5 49.078125 8.5 55.328125 \r\nQ 8.5 64.0625 14.71875 69.140625 \r\nQ 20.953125 74.21875 31.78125 74.21875 \r\nQ 42.671875 74.21875 48.875 69.140625 \r\nQ 55.078125 64.0625 55.078125 55.328125 \r\nQ 55.078125 49.078125 51.53125 44.71875 \r\nQ 48 40.375 41.703125 38.8125 \r\nQ 48.828125 37.15625 52.796875 32.3125 \r\nQ 56.78125 27.484375 56.78125 20.515625 \r\nQ 56.78125 9.90625 50.3125 4.234375 \r\nQ 43.84375 -1.421875 31.78125 -1.421875 \r\nQ 19.734375 -1.421875 13.25 4.234375 \r\nQ 6.78125 9.90625 6.78125 20.515625 \r\nQ 6.78125 27.484375 10.78125 32.3125 \r\nQ 14.796875 37.15625 21.921875 38.8125 \r\nz\r\nM 18.3125 54.390625 \r\nQ 18.3125 48.734375 21.84375 45.5625 \r\nQ 25.390625 42.390625 31.78125 42.390625 \r\nQ 38.140625 42.390625 41.71875 45.5625 \r\nQ 45.3125 48.734375 45.3125 54.390625 \r\nQ 45.3125 60.0625 41.71875 63.234375 \r\nQ 38.140625 66.40625 31.78125 66.40625 \r\nQ 25.390625 66.40625 21.84375 63.234375 \r\nQ 18.3125 60.0625 18.3125 54.390625 \r\nz\r\n\" id=\"DejaVuSans-56\"/>\r\n      </defs>\r\n      <g transform=\"translate(20.878125 43.229642)scale(0.1 -0.1)\">\r\n       <use xlink:href=\"#DejaVuSans-56\"/>\r\n      </g>\r\n     </g>\r\n    </g>\r\n    <g id=\"text_16\">\r\n     <!-- MI estimation -->\r\n     <defs>\r\n      <path d=\"M 9.8125 72.90625 \r\nL 24.515625 72.90625 \r\nL 43.109375 23.296875 \r\nL 61.8125 72.90625 \r\nL 76.515625 72.90625 \r\nL 76.515625 0 \r\nL 66.890625 0 \r\nL 66.890625 64.015625 \r\nL 48.09375 14.015625 \r\nL 38.1875 14.015625 \r\nL 19.390625 64.015625 \r\nL 19.390625 0 \r\nL 9.8125 0 \r\nz\r\n\" id=\"DejaVuSans-77\"/>\r\n      <path d=\"M 9.8125 72.90625 \r\nL 19.671875 72.90625 \r\nL 19.671875 0 \r\nL 9.8125 0 \r\nz\r\n\" id=\"DejaVuSans-73\"/>\r\n     </defs>\r\n     <g transform=\"translate(14.798437 164.958437)rotate(-90)scale(0.1 -0.1)\">\r\n      <use xlink:href=\"#DejaVuSans-77\"/>\r\n      <use x=\"86.279297\" xlink:href=\"#DejaVuSans-73\"/>\r\n      <use x=\"115.771484\" xlink:href=\"#DejaVuSans-32\"/>\r\n      <use x=\"147.558594\" xlink:href=\"#DejaVuSans-101\"/>\r\n      <use x=\"209.082031\" xlink:href=\"#DejaVuSans-115\"/>\r\n      <use x=\"261.181641\" xlink:href=\"#DejaVuSans-116\"/>\r\n      <use x=\"300.390625\" xlink:href=\"#DejaVuSans-105\"/>\r\n      <use x=\"328.173828\" xlink:href=\"#DejaVuSans-109\"/>\r\n      <use x=\"425.585938\" xlink:href=\"#DejaVuSans-97\"/>\r\n      <use x=\"486.865234\" xlink:href=\"#DejaVuSans-116\"/>\r\n      <use x=\"526.074219\" xlink:href=\"#DejaVuSans-105\"/>\r\n      <use x=\"553.857422\" xlink:href=\"#DejaVuSans-111\"/>\r\n      <use x=\"615.039062\" xlink:href=\"#DejaVuSans-110\"/>\r\n     </g>\r\n    </g>\r\n   </g>\r\n   <g id=\"line2d_15\">\r\n    <path clip-path=\"url(#p1d4eed9ace)\" d=\"M 49.458807 229.874489 \r\nL 50.288218 229.766005 \r\nL 50.546934 229.524464 \r\nL 50.79804 229.000536 \r\nL 51.071974 227.907634 \r\nL 51.361127 225.893849 \r\nL 51.75681 221.293219 \r\nL 52.243804 212.194724 \r\nL 54.557025 157.612786 \r\nL 55.173377 149.214113 \r\nL 55.77451 143.218079 \r\nL 56.018007 141.275723 \r\nL 56.41369 138.74644 \r\nL 56.482173 138.361651 \r\nL 56.900684 136.260875 \r\nL 57.311585 134.522703 \r\nL 57.920327 132.57113 \r\nL 57.988811 132.405765 \r\nL 58.171434 131.838971 \r\nL 58.513851 131.010195 \r\nL 58.688865 130.6909 \r\nL 58.74213 130.567628 \r\nL 58.932362 130.146537 \r\nL 59.191077 129.664894 \r\nL 59.419356 129.243854 \r\nL 59.434574 129.248314 \r\nL 59.457402 129.171465 \r\nL 59.465012 129.162884 \r\nL 59.69329 128.870642 \r\nL 59.875913 128.613895 \r\nL 60.096582 128.30809 \r\nL 60.233549 128.045879 \r\nL 60.477046 127.771323 \r\nL 60.819464 127.446418 \r\nL 61.009696 127.235818 \r\nL 62.425022 126.17754 \r\nL 62.523943 126.099394 \r\nL 62.752221 125.969761 \r\nL 62.75983 125.977001 \r\nL 62.851142 125.919844 \r\nL 63.50554 125.469381 \r\nL 63.513149 125.486058 \r\nL 63.581633 125.40355 \r\nL 63.60446 125.432311 \r\nL 64.220812 125.158134 \r\nL 64.228422 125.184966 \r\nL 64.319733 125.128819 \r\nL 64.327342 125.131924 \r\nL 64.555621 125.122854 \r\nL 64.783899 124.981248 \r\nL 64.837164 124.92535 \r\nL 64.890429 124.941191 \r\nL 65.164363 124.731354 \r\nL 65.324158 124.629328 \r\nL 65.339377 124.6478 \r\nL 65.461125 124.649113 \r\nL 65.62092 124.586838 \r\nL 66.069868 124.468515 \r\nL 66.336192 124.348456 \r\nL 66.450332 124.365527 \r\nL 66.46555 124.344199 \r\nL 66.632954 124.313633 \r\nL 68.101546 123.92184 \r\nL 68.238513 123.855402 \r\nL 68.345043 123.85288 \r\nL 68.48201 123.793327 \r\nL 68.558102 123.796078 \r\nL 68.596149 123.742508 \r\nL 68.786381 123.683412 \r\nL 68.961394 123.721332 \r\nL 68.969004 123.742527 \r\nL 69.060315 123.695015 \r\nL 69.159236 123.701467 \r\nL 69.174454 123.710546 \r\nL 69.509263 123.694219 \r\nL 69.547309 123.732372 \r\nL 69.615793 123.671858 \r\nL 69.767978 123.701495 \r\nL 69.775587 123.693854 \r\nL 70.06474 123.650278 \r\nL 70.17127 123.646597 \r\nL 70.178879 123.638909 \r\nL 70.399549 123.55208 \r\nL 70.726748 123.528066 \r\nL 70.955026 123.447615 \r\nL 71.137649 123.469195 \r\nL 71.33549 123.446134 \r\nL 71.480066 123.44385 \r\nL 71.601815 123.435579 \r\nL 71.609424 123.425022 \r\nL 71.776828 123.322543 \r\nL 71.799656 123.341442 \r\nL 71.997498 123.406581 \r\nL 72.240995 123.344357 \r\nL 72.362743 123.310548 \r\nL 72.651896 123.31771 \r\nL 72.788863 123.308883 \r\nL 73.367168 123.306677 \r\nL 73.511745 123.253235 \r\nL 73.656321 123.276302 \r\nL 73.831334 123.23325 \r\nL 73.861771 123.258226 \r\nL 73.998738 123.196964 \r\nL 74.19658 123.137377 \r\nL 74.949899 123.06004 \r\nL 75.117303 123.009173 \r\nL 74.972726 123.087423 \r\nL 75.124912 123.020511 \r\nL 75.383628 123.043433 \r\nL 75.596688 123.018497 \r\nL 75.748873 122.993893 \r\nL 75.954324 122.989026 \r\nL 76.060854 122.954639 \r\nL 76.144556 122.901229 \r\nL 76.182602 122.954762 \r\nL 76.966358 122.889964 \r\nL 77.141372 122.91264 \r\nL 77.323994 122.87233 \r\nL 77.331604 122.881288 \r\nL 77.460961 122.858566 \r\nL 77.833816 122.865643 \r\nL 78.00122 122.765836 \r\nL 78.990427 122.741269 \r\nL 79.766574 122.646564 \r\nL 79.895931 122.646257 \r\nL 81.1819 122.636881 \r\nL 81.265602 122.573906 \r\nL 81.311258 122.605624 \r\nL 81.455834 122.668305 \r\nL 81.471053 122.653959 \r\nL 81.729768 122.578815 \r\nL 82.018921 122.528804 \r\nL 82.140669 122.502737 \r\nL 82.285246 122.466203 \r\nL 84.218003 122.593397 \r\nL 84.286487 122.582121 \r\nL 84.316924 122.551299 \r\nL 86.68341 122.397345 \r\nL 86.805159 122.383511 \r\nL 86.942126 122.471574 \r\nL 87.124748 122.430513 \r\nL 87.284543 122.427941 \r\nL 87.413901 122.405657 \r\nL 87.543259 122.405186 \r\nL 87.611742 122.422432 \r\nL 87.657398 122.390843 \r\nL 87.900895 122.379394 \r\nL 88.304187 122.336597 \r\nL 88.509638 122.278871 \r\nL 88.631386 122.267493 \r\nL 88.775962 122.250311 \r\nL 88.783572 122.258276 \r\nL 89.019459 122.331352 \r\nL 89.042287 122.35405 \r\nL 89.141208 122.344521 \r\nL 89.301003 122.328167 \r\nL 89.453188 122.362207 \r\nL 89.460798 122.347501 \r\nL 89.673858 122.346527 \r\nL 89.902136 122.331169 \r\nL 89.940182 122.358364 \r\nL 90.023885 122.34782 \r\nL 90.351084 122.352036 \r\nL 90.609799 122.297778 \r\nL 90.800031 122.226737 \r\nL 90.822859 122.249524 \r\nL 90.906561 122.199871 \r\nL 91.332681 122.277709 \r\nL 91.507694 122.22844 \r\nL 91.652271 122.286766 \r\nL 91.941423 122.250549 \r\nL 92.116437 122.249164 \r\nL 92.162093 122.279646 \r\nL 92.222967 122.229298 \r\nL 92.413199 122.226804 \r\nL 92.50451 122.304255 \r\nL 92.534947 122.27888 \r\nL 92.702352 122.288002 \r\nL 92.801272 122.295655 \r\nL 92.816491 122.281568 \r\nL 92.953458 122.250611 \r\nL 93.128471 122.277401 \r\nL 93.311094 122.247179 \r\nL 93.417624 122.250837 \r\nL 93.432843 122.240708 \r\nL 94.224208 122.182318 \r\nL 94.787295 122.22889 \r\nL 94.931871 122.219939 \r\nL 94.985136 122.177787 \r\nL 95.038401 122.243425 \r\nL 95.15254 122.253178 \r\nL 95.160149 122.243401 \r\nL 95.342772 122.227468 \r\nL 95.396037 122.261472 \r\nL 95.456911 122.232867 \r\nL 95.609097 122.182022 \r\nL 95.883031 122.199942 \r\nL 96.080872 122.223787 \r\nL 96.63635 122.24726 \r\nL 96.765708 122.203742 \r\nL 96.773317 122.214952 \r\nL 97.047251 122.271808 \r\nL 97.146172 122.281575 \r\nL 97.16139 122.307082 \r\nL 97.366841 122.247065 \r\nL 97.488589 122.233587 \r\nL 97.69404 122.270967 \r\nL 97.785351 122.21624 \r\nL 97.823398 122.266791 \r\nL 97.914709 122.274304 \r\nL 97.929928 122.25665 \r\nL 98.104941 122.228334 \r\nL 98.11255 122.239467 \r\nL 98.279955 122.201369 \r\nL 98.378875 122.217349 \r\nL 98.386485 122.239239 \r\nL 98.531061 122.237666 \r\nL 98.53867 122.228114 \r\nL 98.690856 122.211444 \r\nL 98.698465 122.238159 \r\nL 98.843041 122.212581 \r\nL 98.980008 122.134823 \r\nL 99.002836 122.160166 \r\nL 99.170241 122.200549 \r\nL 99.28438 122.184884 \r\nL 99.307208 122.21058 \r\nL 99.535486 122.207539 \r\nL 99.855076 122.093231 \r\nL 99.984434 122.100403 \r\nL 100.258368 122.075359 \r\nL 100.364898 122.091481 \r\nL 100.380116 122.078897 \r\nL 101.019296 122.036174 \r\nL 101.1867 122.069017 \r\nL 101.323667 122.058732 \r\nL 101.331276 122.071386 \r\nL 101.582383 122.135721 \r\nL 102.03133 122.114753 \r\nL 102.449841 122.091896 \r\nL 102.518324 122.068626 \r\nL 102.56398 122.104747 \r\nL 102.952053 122.086552 \r\nL 103.149895 122.125414 \r\nL 103.492312 122.128883 \r\nL 103.667326 122.178962 \r\nL 103.674935 122.169624 \r\nL 104.078227 122.108163 \r\nL 104.207585 122.110329 \r\nL 104.215194 122.101871 \r\nL 104.397817 122.061877 \r\nL 107.669808 121.990141 \r\nL 107.837212 121.953933 \r\nL 107.844821 121.969726 \r\nL 108.149192 121.937988 \r\nL 108.324206 121.946115 \r\nL 108.986213 121.993587 \r\nL 109.13079 122.027113 \r\nL 110.401539 122.092796 \r\nL 110.568944 122.01493 \r\nL 110.903752 121.965944 \r\nL 111.03311 121.950886 \r\nL 111.276607 121.978326 \r\nL 111.436402 122.057074 \r\nL 111.444011 122.047131 \r\nL 111.733164 122.043574 \r\nL 111.847303 122.050197 \r\nL 111.854912 122.042061 \r\nL 112.007098 122.039817 \r\nL 112.166893 122.106983 \r\nL 112.174502 122.09768 \r\nL 112.532138 121.997613 \r\nL 112.737589 121.992232 \r\nL 112.943039 121.930254 \r\nL 112.950649 121.943793 \r\nL 113.118053 121.987004 \r\nL 113.36155 121.9711 \r\nL 113.46047 122.009995 \r\nL 113.46808 122.029703 \r\nL 113.57461 122.057833 \r\nL 113.597438 122.039454 \r\nL 114.639909 121.888597 \r\nL 114.769267 121.994999 \r\nL 114.898625 121.971859 \r\nL 114.906234 121.981475 \r\nL 115.043201 121.929115 \r\nL 115.149731 121.885817 \r\nL 115.180168 121.915834 \r\nL 115.324744 121.971769 \r\nL 115.553023 122.040097 \r\nL 115.849785 121.930349 \r\nL 115.986752 121.940336 \r\nL 116.169375 121.982484 \r\nL 116.207421 122.015797 \r\nL 116.275905 121.968626 \r\nL 117.097707 122.081355 \r\nL 117.204237 122.074392 \r\nL 117.211846 122.062797 \r\nL 117.348813 122.032332 \r\nL 117.500999 122.046823 \r\nL 118.041258 121.953454 \r\nL 118.048867 121.98031 \r\nL 118.292364 122.053669 \r\nL 118.474987 121.991765 \r\nL 118.786967 121.948351 \r\nL 118.855451 121.92609 \r\nL 118.901107 121.962424 \r\nL 119.144604 121.99924 \r\nL 119.281571 122.022863 \r\nL 119.441365 121.973922 \r\nL 119.555505 121.931106 \r\nL 120.232731 121.90752 \r\nL 120.34687 121.929001 \r\nL 120.354479 121.92126 \r\nL 120.544711 121.917873 \r\nL 120.628413 121.963892 \r\nL 120.66646 121.939625 \r\nL 120.902347 121.91345 \r\nL 121.046924 121.896169 \r\nL 121.161063 121.952947 \r\nL 121.176282 121.941213 \r\nL 121.366514 121.892335 \r\nL 121.556746 121.822067 \r\nL 121.648057 121.832888 \r\nL 121.678494 121.812996 \r\nL 121.82307 121.800587 \r\nL 121.83068 121.862074 \r\nL 121.998084 121.90387 \r\nL 122.538343 121.878976 \r\nL 122.67531 121.956465 \r\nL 122.865542 122.015231 \r\nL 122.873151 122.007842 \r\nL 123.147085 121.882478 \r\nL 123.154695 121.892888 \r\nL 123.291662 121.880071 \r\nL 123.51994 121.874287 \r\nL 123.634079 121.867236 \r\nL 123.649298 121.846981 \r\nL 123.83953 121.863035 \r\nL 123.968888 121.880397 \r\nL 124.280868 121.800484 \r\nL 124.433054 121.872596 \r\nL 124.440663 121.866644 \r\nL 124.745034 121.872451 \r\nL 124.874392 121.924041 \r\nL 125.057015 121.888445 \r\nL 125.209201 121.930296 \r\nL 125.308121 121.927871 \r\nL 125.330949 121.902673 \r\nL 125.353777 121.915697 \r\nL 125.460307 121.894026 \r\nL 125.658148 121.876799 \r\nL 126.137533 121.902462 \r\nL 126.259281 121.890523 \r\nL 126.266891 121.90168 \r\nL 126.434295 121.87158 \r\nL 126.639745 121.864162 \r\nL 126.79954 121.929511 \r\nL 126.959335 121.886624 \r\nL 127.027819 121.906221 \r\nL 127.065865 121.879377 \r\nL 127.218051 121.849865 \r\nL 127.393064 121.859704 \r\nL 127.606124 121.934607 \r\nL 127.765919 121.871362 \r\nL 127.910495 121.845718 \r\nL 127.933323 121.88742 \r\nL 128.237694 121.888218 \r\nL 128.336615 121.835988 \r\nL 128.382271 121.871065 \r\nL 130.687883 121.787628 \r\nL 130.840069 121.856749 \r\nL 130.992254 121.842288 \r\nL 130.999864 121.861037 \r\nL 131.296625 121.805191 \r\nL 131.821666 121.909 \r\nL 132.042335 121.893242 \r\nL 132.110819 121.911935 \r\nL 132.156474 121.893184 \r\nL 132.301051 121.873246 \r\nL 132.430408 121.871152 \r\nL 132.438018 121.885261 \r\nL 132.559766 121.924692 \r\nL 132.673905 121.922754 \r\nL 132.8337 121.846641 \r\nL 132.84131 121.859153 \r\nL 134.302292 121.78278 \r\nL 134.431649 121.773813 \r\nL 134.439259 121.791338 \r\nL 134.621881 121.810417 \r\nL 136.448109 121.822455 \r\nL 136.501374 121.877829 \r\nL 136.562248 121.821699 \r\nL 136.676387 121.837711 \r\nL 136.798136 121.854958 \r\nL 136.904666 121.854952 \r\nL 136.912275 121.864111 \r\nL 137.110116 121.848227 \r\nL 137.269911 121.811723 \r\nL 137.28513 121.833822 \r\nL 137.444925 121.919032 \r\nL 137.589501 121.881171 \r\nL 137.59711 121.890085 \r\nL 138.34282 121.76369 \r\nL 138.479787 121.725833 \r\nL 138.563489 121.831415 \r\nL 138.624363 121.801477 \r\nL 138.784158 121.754277 \r\nL 138.921125 121.831336 \r\nL 139.103748 121.779258 \r\nL 139.233106 121.773674 \r\nL 139.438556 121.774543 \r\nL 139.537477 121.803062 \r\nL 139.552696 121.79432 \r\nL 139.659225 121.848986 \r\nL 139.689663 121.819771 \r\nL 139.879895 121.79398 \r\nL 140.108173 121.856552 \r\nL 140.306014 121.78251 \r\nL 140.473419 121.854927 \r\nL 140.617995 121.864648 \r\nL 140.633213 121.845593 \r\nL 140.861492 121.769636 \r\nL 140.869101 121.808385 \r\nL 140.960413 121.741562 \r\nL 140.968022 121.746027 \r\nL 141.378923 121.775519 \r\nL 141.630029 121.710871 \r\nL 146.142333 121.637857 \r\nL 146.294519 121.628165 \r\nL 146.515188 121.667199 \r\nL 146.652155 121.697663 \r\nL 146.796731 121.697919 \r\nL 146.986963 121.69548 \r\nL 147.169586 121.698457 \r\nL 147.466348 121.683324 \r\nL 147.641361 121.683115 \r\nL 147.862031 121.624689 \r\nL 148.0827 121.631704 \r\nL 148.39468 121.642618 \r\nL 148.661005 121.56749 \r\nL 148.965376 121.579397 \r\nL 149.102343 121.577748 \r\nL 150.205689 121.675162 \r\nL 150.335047 121.749124 \r\nL 150.449186 121.697014 \r\nL 150.669855 121.671486 \r\nL 150.806822 121.658144 \r\nL 152.047135 121.659175 \r\nL 152.146056 121.696668 \r\nL 152.176493 121.679911 \r\nL 152.336288 121.692322 \r\nL 152.442818 121.761972 \r\nL 152.473255 121.749342 \r\nL 152.73958 121.712173 \r\nL 152.94503 121.686963 \r\nL 153.409196 121.628471 \r\nL 153.736396 121.635468 \r\nL 153.926628 121.604423 \r\nL 154.398403 121.653938 \r\nL 154.512542 121.669713 \r\nL 154.520152 121.663099 \r\nL 154.74843 121.623692 \r\nL 154.862569 121.63721 \r\nL 154.946271 121.681031 \r\nL 154.953881 121.695249 \r\nL 155.204987 121.694167 \r\nL 155.357172 121.678621 \r\nL 155.631107 121.679242 \r\nL 156.323551 121.747465 \r\nL 156.4453 121.752984 \r\nL 156.612704 121.780383 \r\nL 156.802936 121.679613 \r\nL 156.810545 121.68502 \r\nL 156.947512 121.681537 \r\nL 156.955121 121.673608 \r\nL 157.198618 121.646159 \r\nL 157.28993 121.666278 \r\nL 157.312758 121.657563 \r\nL 157.548645 121.613206 \r\nL 157.731268 121.624671 \r\nL 157.807361 121.628591 \r\nL 157.837798 121.597532 \r\nL 157.868235 121.640765 \r\nL 158.012812 121.609205 \r\nL 158.56068 121.620016 \r\nL 158.636773 121.695103 \r\nL 158.682428 121.672513 \r\nL 158.77374 121.691512 \r\nL 158.788958 121.700462 \r\nL 161.802234 121.610133 \r\nL 161.916373 121.612012 \r\nL 161.931591 121.630682 \r\nL 162.038121 121.642815 \r\nL 162.05334 121.623147 \r\nL 162.190307 121.696929 \r\nL 162.312055 121.690408 \r\nL 163.027328 121.712545 \r\nL 163.088202 121.761653 \r\nL 163.141467 121.711021 \r\nL 163.255606 121.678009 \r\nL 163.506713 121.632784 \r\nL 163.803475 121.651068 \r\nL 163.963269 121.684521 \r\nL 164.183939 121.626896 \r\nL 164.358952 121.603508 \r\nL 164.48831 121.656501 \r\nL 164.495919 121.651597 \r\nL 164.678542 121.663151 \r\nL 165.01335 121.592183 \r\nL 165.173145 121.58713 \r\nL 165.736232 121.624461 \r\nL 165.873199 121.677047 \r\nL 165.880808 121.670545 \r\nL 166.664564 121.60841 \r\nL 166.900452 121.585487 \r\nL 167.105903 121.650034 \r\nL 167.364618 121.590693 \r\nL 167.501585 121.597621 \r\nL 167.638552 121.646637 \r\nL 167.737473 121.668145 \r\nL 167.76791 121.643754 \r\nL 167.988579 121.651992 \r\nL 168.125546 121.63792 \r\nL 168.346215 121.620075 \r\nL 170.590953 121.479178 \r\nL 171.009464 121.458565 \r\nL 171.15404 121.471784 \r\nL 171.313835 121.471759 \r\nL 171.443193 121.499554 \r\nL 171.641034 121.489996 \r\nL 172.226949 121.476523 \r\nL 172.401962 121.449963 \r\nL 172.546539 121.491358 \r\nL 172.561757 121.478013 \r\nL 172.683506 121.486584 \r\nL 172.866128 121.488998 \r\nL 173.018314 121.516657 \r\nL 173.155281 121.541409 \r\nL 173.1705 121.523018 \r\nL 173.27703 121.566793 \r\nL 173.284639 121.593704 \r\nL 173.512917 121.613673 \r\nL 173.672712 121.581814 \r\nL 175.506549 121.606722 \r\nL 175.651125 121.656308 \r\nL 175.864185 121.639391 \r\nL 175.940278 121.635566 \r\nL 175.970715 121.608438 \r\nL 176.313133 121.545847 \r\nL 176.510974 121.556725 \r\nL 176.647941 121.580076 \r\nL 176.746862 121.595805 \r\nL 176.76969 121.575431 \r\nL 176.899047 121.586815 \r\nL 177.028405 121.613367 \r\nL 177.172981 121.625432 \r\nL 177.561055 121.584265 \r\nL 177.682803 121.574517 \r\nL 177.865426 121.534272 \r\nL 178.010002 121.531131 \r\nL 178.146969 121.50911 \r\nL 178.154579 121.51787 \r\nL 178.474169 121.528242 \r\nL 178.67201 121.502251 \r\nL 179.022037 121.521717 \r\nL 179.060083 121.540737 \r\nL 179.128567 121.493393 \r\nL 179.866667 121.540411 \r\nL 179.996025 121.546217 \r\nL 180.102555 121.577 \r\nL 180.110164 121.56779 \r\nL 180.26235 121.541368 \r\nL 180.269959 121.549268 \r\nL 180.734125 121.670834 \r\nL 180.985231 121.567702 \r\nL 181.190682 121.532052 \r\nL 181.42657 121.527662 \r\nL 181.555927 121.554129 \r\nL 183.732182 121.485943 \r\nL 183.86154 121.469397 \r\nL 183.998507 121.477539 \r\nL 184.006116 121.50122 \r\nL 184.59964 121.479161 \r\nL 184.80509 121.492433 \r\nL 184.964885 121.486367 \r\nL 185.086634 121.494617 \r\nL 185.094243 121.501628 \r\nL 185.626893 121.529374 \r\nL 185.725813 121.542094 \r\nL 185.741032 121.526339 \r\nL 185.916046 121.502891 \r\nL 185.923655 121.518553 \r\nL 186.136715 121.511908 \r\nL 186.326947 121.479668 \r\nL 186.334556 121.495417 \r\nL 187.004173 121.432425 \r\nL 187.673789 121.448407 \r\nL 187.825975 121.464298 \r\nL 188.130346 121.540711 \r\nL 188.267313 121.543538 \r\nL 188.381453 121.542757 \r\nL 188.282532 121.557029 \r\nL 188.389062 121.550051 \r\nL 188.487983 121.580025 \r\nL 188.51842 121.559827 \r\nL 188.876056 121.613738 \r\nL 189.035851 121.573703 \r\nL 189.157599 121.594826 \r\nL 191.280589 121.486367 \r\nL 191.79802 121.503361 \r\nL 192.505683 121.489684 \r\nL 192.627431 121.481743 \r\nL 192.764399 121.479883 \r\nL 192.924193 121.500714 \r\nL 193.106816 121.512023 \r\nL 193.243783 121.52149 \r\nL 193.639466 121.481147 \r\nL 193.799261 121.458814 \r\nL 193.974274 121.435689 \r\nL 194.12646 121.412677 \r\nL 194.255818 121.415978 \r\nL 194.75803 121.407236 \r\nL 194.910216 121.411191 \r\nL 195.283071 121.469887 \r\nL 195.442866 121.467264 \r\nL 195.640707 121.514383 \r\nL 195.81572 121.474533 \r\nL 195.952687 121.495098 \r\nL 195.960297 121.483809 \r\nL 196.127701 121.481127 \r\nL 196.77449 121.446365 \r\nL 197.078861 121.353806 \r\nL 197.626729 121.393343 \r\nL 197.672385 121.425413 \r\nL 197.740868 121.387911 \r\nL 200.449773 121.390242 \r\nL 200.571521 121.396641 \r\nL 200.693269 121.396148 \r\nL 201.043296 121.339821 \r\nL 201.309621 121.432233 \r\nL 201.492244 121.413154 \r\nL 201.948801 121.389355 \r\nL 202.116205 121.374965 \r\nL 202.260781 121.374918 \r\nL 202.686901 121.393705 \r\nL 202.854305 121.38892 \r\nL 203.029319 121.397862 \r\nL 203.242379 121.378448 \r\nL 203.417392 121.373854 \r\nL 203.569578 121.444456 \r\nL 203.790247 121.436976 \r\nL 203.904386 121.466731 \r\nL 204.041353 121.476275 \r\nL 204.18593 121.456876 \r\nL 204.452254 121.440162 \r\nL 204.642486 121.39639 \r\nL 204.756626 121.418964 \r\nL 204.764235 121.411288 \r\nL 204.977295 121.356172 \r\nL 205.13709 121.317687 \r\nL 205.327322 121.248577 \r\nL 205.334931 121.262161 \r\nL 205.654521 121.310957 \r\nL 205.76866 121.298275 \r\nL 205.936064 121.321446 \r\nL 206.073031 121.284298 \r\nL 207.845994 121.417636 \r\nL 208.043835 121.379074 \r\nL 208.196021 121.413699 \r\nL 208.485173 121.388208 \r\nL 208.675405 121.442766 \r\nL 208.865637 121.467106 \r\nL 210.022248 121.500453 \r\nL 210.174434 121.542006 \r\nL 210.182043 121.535295 \r\nL 210.31901 121.499395 \r\nL 210.577726 121.449276 \r\nL 210.684256 121.440079 \r\nL 210.691865 121.435651 \r\nL 210.95058 121.40914 \r\nL 210.988627 121.452463 \r\nL 211.06472 121.413661 \r\nL 211.863694 121.301265 \r\nL 211.993052 121.325781 \r\nL 212.000661 121.345062 \r\nL 212.1148 121.405643 \r\nL 212.320251 121.436157 \r\nL 212.487655 121.386908 \r\nL 212.693106 121.373769 \r\nL 212.814854 121.371677 \r\nL 213.081179 121.316771 \r\nL 213.613829 121.392386 \r\nL 214.511724 121.344369 \r\nL 214.633473 121.356229 \r\nL 215.021546 121.372319 \r\nL 215.158513 121.395716 \r\nL 215.424838 121.392647 \r\nL 215.523758 121.387054 \r\nL 215.531368 121.37768 \r\nL 215.729209 121.363963 \r\nL 215.995534 121.346948 \r\nL 216.193375 121.319872 \r\nL 216.391216 121.292582 \r\nL 216.802118 121.29816 \r\nL 216.87821 121.329598 \r\nL 216.916257 121.306293 \r\nL 217.228237 121.298052 \r\nL 217.403251 121.299826 \r\nL 217.601092 121.316425 \r\nL 218.270709 121.304554 \r\nL 218.392457 121.311885 \r\nL 218.719657 121.257917 \r\nL 219.077293 121.28717 \r\nL 219.130558 121.362785 \r\nL 219.183823 121.332415 \r\nL 219.32079 121.348042 \r\nL 220.013234 121.31718 \r\nL 220.05889 121.357124 \r\nL 220.127374 121.330639 \r\nL 220.332824 121.30467 \r\nL 220.48501 121.262048 \r\nL 221.200282 121.226319 \r\nL 221.580746 121.24293 \r\nL 221.717713 121.3015 \r\nL 221.725323 121.293378 \r\nL 222.311237 121.300032 \r\nL 222.402549 121.291536 \r\nL 222.425376 121.271497 \r\nL 222.646046 121.239348 \r\nL 222.859105 121.264552 \r\nL 223.049337 121.263451 \r\nL 223.437411 121.275777 \r\nL 223.749391 121.259136 \r\nL 223.863531 121.265985 \r\nL 224.129855 121.264946 \r\nL 224.251604 121.300505 \r\nL 224.50271 121.267565 \r\nL 225.058188 121.315618 \r\nL 225.202764 121.321255 \r\nL 225.537572 121.330309 \r\nL 225.590837 121.372629 \r\nL 225.651712 121.343001 \r\nL 226.055004 121.297959 \r\nL 226.252845 121.299762 \r\nL 226.313719 121.285191 \r\nL 226.359375 121.340269 \r\nL 226.671355 121.324827 \r\nL 226.770276 121.350666 \r\nL 226.793104 121.34195 \r\nL 226.998554 121.347582 \r\nL 227.531204 121.297011 \r\nL 228.025807 121.386067 \r\nL 228.147556 121.376985 \r\nL 228.299741 121.368199 \r\nL 228.482364 121.314046 \r\nL 228.748689 121.334151 \r\nL 228.900875 121.344889 \r\nL 228.908484 121.336662 \r\nL 229.083497 121.290281 \r\nL 229.091107 121.30025 \r\nL 229.281339 121.340998 \r\nL 229.410697 121.359137 \r\nL 229.58571 121.300452 \r\nL 229.593319 121.335243 \r\nL 229.791161 121.331812 \r\nL 229.958565 121.274808 \r\nL 229.966174 121.286348 \r\nL 230.179234 121.292122 \r\nL 230.33142 121.276676 \r\nL 230.445559 121.281244 \r\nL 230.635791 121.250473 \r\nL 230.970599 121.24131 \r\nL 231.115176 121.302017 \r\nL 231.373891 121.226399 \r\nL 231.548905 121.210625 \r\nL 231.769574 121.224421 \r\nL 231.898931 121.257079 \r\nL 232.157647 121.238465 \r\nL 232.279396 121.258545 \r\nL 232.43919 121.248585 \r\nL 232.614204 121.209958 \r\nL 232.735952 121.257264 \r\nL 233.329476 121.230154 \r\nL 233.542536 121.292925 \r\nL 233.671894 121.289187 \r\nL 233.679503 121.297824 \r\nL 233.976265 121.270092 \r\nL 234.432822 121.194198 \r\nL 234.623054 121.187219 \r\nL 234.706756 121.206426 \r\nL 234.729584 121.236092 \r\nL 234.87416 121.270633 \r\nL 234.995909 121.306788 \r\nL 235.254624 121.268058 \r\nL 235.368764 121.257696 \r\nL 235.574214 121.230998 \r\nL 236.685169 121.260641 \r\nL 236.898229 121.232261 \r\nL 237.453707 121.230949 \r\nL 237.583064 121.238074 \r\nL 237.818952 121.241932 \r\nL 238.2679 121.23492 \r\nL 238.442913 121.264338 \r\nL 242.551925 121.201873 \r\nL 242.719329 121.189659 \r\nL 243.693317 121.277948 \r\nL 243.731364 121.342468 \r\nL 243.807456 121.305515 \r\nL 244.066172 121.244238 \r\nL 244.264013 121.273774 \r\nL 244.545557 121.267775 \r\nL 245.032551 121.240087 \r\nL 245.230392 121.229669 \r\nL 245.367359 121.261485 \r\nL 245.374968 121.255858 \r\nL 245.542373 121.232781 \r\nL 245.588028 121.27058 \r\nL 245.656512 121.233259 \r\nL 245.922837 121.228435 \r\nL 246.082632 121.24555 \r\nL 246.348956 121.200894 \r\nL 246.478314 121.216631 \r\nL 246.62289 121.214292 \r\nL 246.790295 121.227319 \r\nL 250.275345 121.140828 \r\nL 250.54928 121.120764 \r\nL 250.929744 121.171933 \r\nL 251.256943 121.157865 \r\nL 251.477612 121.221321 \r\nL 251.7135 121.220655 \r\nL 251.858076 121.207709 \r\nL 254.650682 121.198747 \r\nL 254.802868 121.206173 \r\nL 255.09202 121.180575 \r\nL 255.190941 121.190103 \r\nL 255.213769 121.174966 \r\nL 255.571405 121.136836 \r\nL 256.104055 121.109953 \r\nL 256.37038 121.069534 \r\nL 256.507347 121.068245 \r\nL 256.697579 121.05983 \r\nL 256.781281 121.135869 \r\nL 256.819327 121.122237 \r\nL 257.017169 121.084067 \r\nL 257.199791 121.133416 \r\nL 257.42046 121.112142 \r\nL 257.542209 121.132381 \r\nL 257.770487 121.1321 \r\nL 258.447713 121.225839 \r\nL 258.881442 121.247915 \r\nL 259.094502 121.226161 \r\nL 259.201032 121.193358 \r\nL 259.33039 121.221261 \r\nL 260.053272 121.164708 \r\nL 260.190239 121.192429 \r\nL 260.433736 121.169548 \r\nL 260.890293 121.146941 \r\nL 261.072915 121.128785 \r\nL 262.336056 121.27448 \r\nL 262.381712 121.301149 \r\nL 262.450195 121.276779 \r\nL 263.264388 121.23151 \r\nL 263.378528 121.226689 \r\nL 263.720945 121.164159 \r\nL 267.114685 121.123734 \r\nL 267.304917 121.082103 \r\nL 267.411447 121.095395 \r\nL 267.419056 121.088964 \r\nL 267.715818 121.108294 \r\nL 267.860394 121.135522 \r\nL 268.126719 121.152281 \r\nL 268.240858 121.154678 \r\nL 268.43109 121.133467 \r\nL 270.204053 121.126982 \r\nL 270.371457 121.137718 \r\nL 270.881279 121.199243 \r\nL 270.957372 121.238022 \r\nL 271.003027 121.218077 \r\nL 271.254134 121.185164 \r\nL 271.375882 121.220213 \r\nL 271.984625 121.137167 \r\nL 272.250949 121.130387 \r\nL 272.4564 121.140093 \r\nL 272.639023 121.164076 \r\nL 272.912957 121.113147 \r\nL 273.148845 121.170834 \r\nL 273.293421 121.195149 \r\nL 273.491262 121.155099 \r\nL 273.681494 121.199582 \r\nL 273.864117 121.200215 \r\nL 274.031521 121.209375 \r\nL 274.982681 121.135837 \r\nL 275.157695 121.128167 \r\nL 275.347927 121.115504 \r\nL 275.62947 121.066348 \r\nL 275.804484 121.065588 \r\nL 275.94906 121.036661 \r\nL 276.192557 121.06641 \r\nL 276.595849 121.014417 \r\nL 276.732816 121.016001 \r\nL 277.067624 121.052026 \r\nL 277.881817 121.039253 \r\nL 278.657964 121.072196 \r\nL 278.81015 121.091507 \r\nL 279.007991 121.126419 \r\nL 279.266707 121.0918 \r\nL 279.829793 121.061177 \r\nL 279.951542 121.111854 \r\nL 280.134165 121.079262 \r\nL 281.161418 121.0534 \r\nL 281.313603 121.061605 \r\nL 281.503835 121.050219 \r\nL 281.678849 121.109555 \r\nL 286.708584 121.169472 \r\nL 286.815113 121.127115 \r\nL 287.302107 121.067244 \r\nL 287.789101 121.062109 \r\nL 287.91085 121.112309 \r\nL 288.207612 121.034097 \r\nL 288.321751 121.041295 \r\nL 288.32936 121.035729 \r\nL 288.534811 121.00036 \r\nL 288.679387 121.046036 \r\nL 288.839182 121.024083 \r\nL 288.976149 121.048608 \r\nL 289.097898 121.058062 \r\nL 289.318567 121.00609 \r\nL 291.654616 121.117108 \r\nL 291.844848 121.101206 \r\nL 291.852458 121.117903 \r\nL 292.027471 121.100061 \r\nL 292.35467 121.121656 \r\nL 292.499246 121.095286 \r\nL 292.864492 121.107733 \r\nL 292.98624 121.111933 \r\nL 293.267784 121.058141 \r\nL 293.419969 121.054979 \r\nL 293.534109 121.088445 \r\nL 293.648248 121.117786 \r\nL 293.830871 121.12653 \r\nL 293.983056 121.099175 \r\nL 298.213817 121.039187 \r\nL 298.525797 121.017509 \r\nL 298.700811 121.015361 \r\nL 298.891043 121.035015 \r\nL 299.050838 121.021199 \r\nL 299.286725 121.017629 \r\nL 299.537832 121.062432 \r\nL 300.009607 121.089749 \r\nL 300.207448 121.099629 \r\nL 300.625959 121.050305 \r\nL 300.724879 121.054861 \r\nL 300.740098 121.044867 \r\nL 300.922721 121.030407 \r\nL 301.03686 121.082537 \r\nL 301.044469 121.076795 \r\nL 301.204264 121.068372 \r\nL 301.927146 121.096828 \r\nL 302.071722 121.118343 \r\nL 302.223908 121.112523 \r\nL 302.231517 121.124422 \r\nL 302.452186 121.133655 \r\nL 302.642418 121.090836 \r\nL 304.149056 121.063506 \r\nL 304.506692 121.0541 \r\nL 304.788236 121.01956 \r\nL 306.911225 120.971978 \r\nL 307.093848 121.025312 \r\nL 307.428656 121.036082 \r\nL 307.512358 121.052486 \r\nL 307.542795 121.040655 \r\nL 307.679762 121.066683 \r\nL 307.786292 121.058138 \r\nL 307.793902 121.052565 \r\nL 308.737452 120.978017 \r\nL 309.110307 121.034113 \r\nL 309.285321 121.061118 \r\nL 310.928925 121.077848 \r\nL 311.240906 121.13195 \r\nL 311.590933 121.029608 \r\nL 312.085536 121.049598 \r\nL 312.245331 121.061159 \r\nL 312.488828 121.026742 \r\nL 312.846464 121.01887 \r\nL 313.120398 120.970014 \r\nL 314.452023 120.982598 \r\nL 314.558552 120.976744 \r\nL 314.566162 120.972426 \r\nL 314.764003 120.973085 \r\nL 314.931407 120.998352 \r\nL 315.106421 121.012487 \r\nL 315.441229 120.980211 \r\nL 315.570587 120.983454 \r\nL 315.730382 120.974533 \r\nL 315.85974 120.982561 \r\nL 315.867349 120.977041 \r\nL 316.027144 120.986942 \r\nL 316.186939 121.025102 \r\nL 316.643496 120.997703 \r\nL 317.214192 121.003006 \r\nL 317.320722 121.025 \r\nL 317.33594 121.016523 \r\nL 317.594656 121.00428 \r\nL 317.899027 121.010186 \r\nL 318.096868 121.042474 \r\nL 318.211007 121.032875 \r\nL 318.401239 121.047345 \r\nL 318.515379 121.031674 \r\nL 318.880624 120.947432 \r\nL 319.009982 120.947166 \r\nL 319.253479 120.995519 \r\nL 319.504585 120.950973 \r\nL 319.649162 120.979314 \r\nL 319.816566 120.968082 \r\nL 319.968751 121.007219 \r\nL 320.151374 121.009086 \r\nL 320.676415 121.021345 \r\nL 320.813382 121.060853 \r\nL 320.8286 121.047408 \r\nL 321.581919 121.053143 \r\nL 321.810197 121.004694 \r\nL 321.99282 121.034156 \r\nL 323.354881 120.980798 \r\nL 324.131028 120.918842 \r\nL 324.473446 120.898401 \r\nL 324.762599 120.935897 \r\nL 325.074579 120.978713 \r\nL 325.325685 120.958342 \r\nL 325.447434 121.001138 \r\nL 325.69854 120.971764 \r\nL 325.980083 120.986296 \r\nL 326.132269 121.003376 \r\nL 326.276845 121.015235 \r\nL 326.497515 120.990977 \r\nL 327.418238 120.961727 \r\nL 327.547595 120.948854 \r\nL 327.798702 120.949116 \r\nL 328.430272 120.992943 \r\nL 328.612895 121.032429 \r\nL 328.719425 121.018031 \r\nL 328.727034 121.014059 \r\nL 328.917266 121.014687 \r\nL 329.122717 120.996566 \r\nL 329.662976 120.927201 \r\nL 329.792333 120.961746 \r\nL 329.997784 120.949915 \r\nL 330.705447 120.957818 \r\nL 330.895679 120.968524 \r\nL 331.131567 120.919395 \r\nL 332.89692 120.962122 \r\nL 333.406742 120.903198 \r\nL 333.840471 120.956588 \r\nL 334.007875 120.990446 \r\nL 336.693951 120.98825 \r\nL 336.861356 121.022882 \r\nL 338.002748 120.920134 \r\nL 338.170152 120.938301 \r\nL 338.444086 120.988993 \r\nL 338.733239 120.983555 \r\nL 338.893034 120.988146 \r\nL 339.159358 120.97395 \r\nL 339.273498 120.975281 \r\nL 339.281107 120.970623 \r\nL 339.547432 120.92815 \r\nL 339.714836 120.947052 \r\nL 340.445327 120.978063 \r\nL 340.574685 121.00852 \r\nL 340.719261 121.016453 \r\nL 340.894275 120.985457 \r\nL 341.137772 120.931435 \r\nL 341.381269 120.943598 \r\nL 341.518236 120.949328 \r\nL 341.708468 120.943206 \r\nL 342.598753 120.934498 \r\nL 342.788986 120.924194 \r\nL 344.554339 120.89558 \r\nL 344.736961 120.892493 \r\nL 345.094598 120.88667 \r\nL 345.216346 120.880494 \r\nL 345.520717 120.922511 \r\nL 345.756605 120.935423 \r\nL 345.901182 120.956337 \r\nL 347.065402 120.917856 \r\nL 347.194759 120.91059 \r\nL 347.407819 120.900451 \r\nL 347.544786 120.903613 \r\nL 347.833939 120.950334 \r\nL 347.955687 120.927524 \r\nL 348.199184 120.952535 \r\nL 348.427463 120.948997 \r\nL 348.549211 120.968206 \r\nL 348.686178 120.94858 \r\nL 349.043815 120.887249 \r\nL 349.188391 120.869494 \r\nL 350.946135 120.860383 \r\nL 351.151586 120.865315 \r\nL 351.691844 120.845305 \r\nL 352.102746 120.840922 \r\nL 353.822443 120.911122 \r\nL 353.822443 120.911122 \r\n\" style=\"fill:none;stroke:#1f77b4;stroke-linecap:square;stroke-width:1.5;\"/>\r\n   </g>\r\n   <g id=\"line2d_16\">\r\n    <path clip-path=\"url(#p1d4eed9ace)\" d=\"M 34.240625 32.201761 \r\nL 369.040625 32.201761 \r\n\" style=\"fill:none;stroke:#ff0000;stroke-dasharray:5.55,2.4;stroke-dashoffset:0;stroke-width:1.5;\"/>\r\n   </g>\r\n   <g id=\"patch_3\">\r\n    <path d=\"M 34.240625 239.758125 \r\nL 34.240625 22.318125 \r\n\" style=\"fill:none;stroke:#000000;stroke-linecap:square;stroke-linejoin:miter;stroke-width:0.8;\"/>\r\n   </g>\r\n   <g id=\"patch_4\">\r\n    <path d=\"M 369.040625 239.758125 \r\nL 369.040625 22.318125 \r\n\" style=\"fill:none;stroke:#000000;stroke-linecap:square;stroke-linejoin:miter;stroke-width:0.8;\"/>\r\n   </g>\r\n   <g id=\"patch_5\">\r\n    <path d=\"M 34.240625 239.758125 \r\nL 369.040625 239.758125 \r\n\" style=\"fill:none;stroke:#000000;stroke-linecap:square;stroke-linejoin:miter;stroke-width:0.8;\"/>\r\n   </g>\r\n   <g id=\"patch_6\">\r\n    <path d=\"M 34.240625 22.318125 \r\nL 369.040625 22.318125 \r\n\" style=\"fill:none;stroke:#000000;stroke-linecap:square;stroke-linejoin:miter;stroke-width:0.8;\"/>\r\n   </g>\r\n   <g id=\"text_17\">\r\n    <!-- Gaussian_d10_clip1e-05_rho0.9 -->\r\n    <defs>\r\n     <path d=\"M 59.515625 10.40625 \r\nL 59.515625 29.984375 \r\nL 43.40625 29.984375 \r\nL 43.40625 38.09375 \r\nL 69.28125 38.09375 \r\nL 69.28125 6.78125 \r\nQ 63.578125 2.734375 56.6875 0.65625 \r\nQ 49.8125 -1.421875 42 -1.421875 \r\nQ 24.90625 -1.421875 15.25 8.5625 \r\nQ 5.609375 18.5625 5.609375 36.375 \r\nQ 5.609375 54.25 15.25 64.234375 \r\nQ 24.90625 74.21875 42 74.21875 \r\nQ 49.125 74.21875 55.546875 72.453125 \r\nQ 61.96875 70.703125 67.390625 67.28125 \r\nL 67.390625 56.78125 \r\nQ 61.921875 61.421875 55.765625 63.765625 \r\nQ 49.609375 66.109375 42.828125 66.109375 \r\nQ 29.4375 66.109375 22.71875 58.640625 \r\nQ 16.015625 51.171875 16.015625 36.375 \r\nQ 16.015625 21.625 22.71875 14.15625 \r\nQ 29.4375 6.6875 42.828125 6.6875 \r\nQ 48.046875 6.6875 52.140625 7.59375 \r\nQ 56.25 8.5 59.515625 10.40625 \r\nz\r\n\" id=\"DejaVuSans-71\"/>\r\n     <path d=\"M 50.984375 -16.609375 \r\nL 50.984375 -23.578125 \r\nL -0.984375 -23.578125 \r\nL -0.984375 -16.609375 \r\nz\r\n\" id=\"DejaVuSans-95\"/>\r\n     <path d=\"M 45.40625 46.390625 \r\nL 45.40625 75.984375 \r\nL 54.390625 75.984375 \r\nL 54.390625 0 \r\nL 45.40625 0 \r\nL 45.40625 8.203125 \r\nQ 42.578125 3.328125 38.25 0.953125 \r\nQ 33.9375 -1.421875 27.875 -1.421875 \r\nQ 17.96875 -1.421875 11.734375 6.484375 \r\nQ 5.515625 14.40625 5.515625 27.296875 \r\nQ 5.515625 40.1875 11.734375 48.09375 \r\nQ 17.96875 56 27.875 56 \r\nQ 33.9375 56 38.25 53.625 \r\nQ 42.578125 51.265625 45.40625 46.390625 \r\nz\r\nM 14.796875 27.296875 \r\nQ 14.796875 17.390625 18.875 11.75 \r\nQ 22.953125 6.109375 30.078125 6.109375 \r\nQ 37.203125 6.109375 41.296875 11.75 \r\nQ 45.40625 17.390625 45.40625 27.296875 \r\nQ 45.40625 37.203125 41.296875 42.84375 \r\nQ 37.203125 48.484375 30.078125 48.484375 \r\nQ 22.953125 48.484375 18.875 42.84375 \r\nQ 14.796875 37.203125 14.796875 27.296875 \r\nz\r\n\" id=\"DejaVuSans-100\"/>\r\n     <path d=\"M 48.78125 52.59375 \r\nL 48.78125 44.1875 \r\nQ 44.96875 46.296875 41.140625 47.34375 \r\nQ 37.3125 48.390625 33.40625 48.390625 \r\nQ 24.65625 48.390625 19.8125 42.84375 \r\nQ 14.984375 37.3125 14.984375 27.296875 \r\nQ 14.984375 17.28125 19.8125 11.734375 \r\nQ 24.65625 6.203125 33.40625 6.203125 \r\nQ 37.3125 6.203125 41.140625 7.25 \r\nQ 44.96875 8.296875 48.78125 10.40625 \r\nL 48.78125 2.09375 \r\nQ 45.015625 0.34375 40.984375 -0.53125 \r\nQ 36.96875 -1.421875 32.421875 -1.421875 \r\nQ 20.0625 -1.421875 12.78125 6.34375 \r\nQ 5.515625 14.109375 5.515625 27.296875 \r\nQ 5.515625 40.671875 12.859375 48.328125 \r\nQ 20.21875 56 33.015625 56 \r\nQ 37.15625 56 41.109375 55.140625 \r\nQ 45.0625 54.296875 48.78125 52.59375 \r\nz\r\n\" id=\"DejaVuSans-99\"/>\r\n     <path d=\"M 9.421875 75.984375 \r\nL 18.40625 75.984375 \r\nL 18.40625 0 \r\nL 9.421875 0 \r\nz\r\n\" id=\"DejaVuSans-108\"/>\r\n     <path d=\"M 18.109375 8.203125 \r\nL 18.109375 -20.796875 \r\nL 9.078125 -20.796875 \r\nL 9.078125 54.6875 \r\nL 18.109375 54.6875 \r\nL 18.109375 46.390625 \r\nQ 20.953125 51.265625 25.265625 53.625 \r\nQ 29.59375 56 35.59375 56 \r\nQ 45.5625 56 51.78125 48.09375 \r\nQ 58.015625 40.1875 58.015625 27.296875 \r\nQ 58.015625 14.40625 51.78125 6.484375 \r\nQ 45.5625 -1.421875 35.59375 -1.421875 \r\nQ 29.59375 -1.421875 25.265625 0.953125 \r\nQ 20.953125 3.328125 18.109375 8.203125 \r\nz\r\nM 48.6875 27.296875 \r\nQ 48.6875 37.203125 44.609375 42.84375 \r\nQ 40.53125 48.484375 33.40625 48.484375 \r\nQ 26.265625 48.484375 22.1875 42.84375 \r\nQ 18.109375 37.203125 18.109375 27.296875 \r\nQ 18.109375 17.390625 22.1875 11.75 \r\nQ 26.265625 6.109375 33.40625 6.109375 \r\nQ 40.53125 6.109375 44.609375 11.75 \r\nQ 48.6875 17.390625 48.6875 27.296875 \r\nz\r\n\" id=\"DejaVuSans-112\"/>\r\n     <path d=\"M 4.890625 31.390625 \r\nL 31.203125 31.390625 \r\nL 31.203125 23.390625 \r\nL 4.890625 23.390625 \r\nz\r\n\" id=\"DejaVuSans-45\"/>\r\n     <path d=\"M 54.890625 33.015625 \r\nL 54.890625 0 \r\nL 45.90625 0 \r\nL 45.90625 32.71875 \r\nQ 45.90625 40.484375 42.875 44.328125 \r\nQ 39.84375 48.1875 33.796875 48.1875 \r\nQ 26.515625 48.1875 22.3125 43.546875 \r\nQ 18.109375 38.921875 18.109375 30.90625 \r\nL 18.109375 0 \r\nL 9.078125 0 \r\nL 9.078125 75.984375 \r\nL 18.109375 75.984375 \r\nL 18.109375 46.1875 \r\nQ 21.34375 51.125 25.703125 53.5625 \r\nQ 30.078125 56 35.796875 56 \r\nQ 45.21875 56 50.046875 50.171875 \r\nQ 54.890625 44.34375 54.890625 33.015625 \r\nz\r\n\" id=\"DejaVuSans-104\"/>\r\n     <path d=\"M 10.6875 12.40625 \r\nL 21 12.40625 \r\nL 21 0 \r\nL 10.6875 0 \r\nz\r\n\" id=\"DejaVuSans-46\"/>\r\n     <path d=\"M 10.984375 1.515625 \r\nL 10.984375 10.5 \r\nQ 14.703125 8.734375 18.5 7.8125 \r\nQ 22.3125 6.890625 25.984375 6.890625 \r\nQ 35.75 6.890625 40.890625 13.453125 \r\nQ 46.046875 20.015625 46.78125 33.40625 \r\nQ 43.953125 29.203125 39.59375 26.953125 \r\nQ 35.25 24.703125 29.984375 24.703125 \r\nQ 19.046875 24.703125 12.671875 31.3125 \r\nQ 6.296875 37.9375 6.296875 49.421875 \r\nQ 6.296875 60.640625 12.9375 67.421875 \r\nQ 19.578125 74.21875 30.609375 74.21875 \r\nQ 43.265625 74.21875 49.921875 64.515625 \r\nQ 56.59375 54.828125 56.59375 36.375 \r\nQ 56.59375 19.140625 48.40625 8.859375 \r\nQ 40.234375 -1.421875 26.421875 -1.421875 \r\nQ 22.703125 -1.421875 18.890625 -0.6875 \r\nQ 15.09375 0.046875 10.984375 1.515625 \r\nz\r\nM 30.609375 32.421875 \r\nQ 37.25 32.421875 41.125 36.953125 \r\nQ 45.015625 41.5 45.015625 49.421875 \r\nQ 45.015625 57.28125 41.125 61.84375 \r\nQ 37.25 66.40625 30.609375 66.40625 \r\nQ 23.96875 66.40625 20.09375 61.84375 \r\nQ 16.21875 57.28125 16.21875 49.421875 \r\nQ 16.21875 41.5 20.09375 36.953125 \r\nQ 23.96875 32.421875 30.609375 32.421875 \r\nz\r\n\" id=\"DejaVuSans-57\"/>\r\n    </defs>\r\n    <g transform=\"translate(106.438438 16.318125)scale(0.12 -0.12)\">\r\n     <use xlink:href=\"#DejaVuSans-71\"/>\r\n     <use x=\"77.490234\" xlink:href=\"#DejaVuSans-97\"/>\r\n     <use x=\"138.769531\" xlink:href=\"#DejaVuSans-117\"/>\r\n     <use x=\"202.148438\" xlink:href=\"#DejaVuSans-115\"/>\r\n     <use x=\"254.248047\" xlink:href=\"#DejaVuSans-115\"/>\r\n     <use x=\"306.347656\" xlink:href=\"#DejaVuSans-105\"/>\r\n     <use x=\"334.130859\" xlink:href=\"#DejaVuSans-97\"/>\r\n     <use x=\"395.410156\" xlink:href=\"#DejaVuSans-110\"/>\r\n     <use x=\"458.789062\" xlink:href=\"#DejaVuSans-95\"/>\r\n     <use x=\"508.789062\" xlink:href=\"#DejaVuSans-100\"/>\r\n     <use x=\"572.265625\" xlink:href=\"#DejaVuSans-49\"/>\r\n     <use x=\"635.888672\" xlink:href=\"#DejaVuSans-48\"/>\r\n     <use x=\"699.511719\" xlink:href=\"#DejaVuSans-95\"/>\r\n     <use x=\"749.511719\" xlink:href=\"#DejaVuSans-99\"/>\r\n     <use x=\"804.492188\" xlink:href=\"#DejaVuSans-108\"/>\r\n     <use x=\"832.275391\" xlink:href=\"#DejaVuSans-105\"/>\r\n     <use x=\"860.058594\" xlink:href=\"#DejaVuSans-112\"/>\r\n     <use x=\"923.535156\" xlink:href=\"#DejaVuSans-49\"/>\r\n     <use x=\"987.158203\" xlink:href=\"#DejaVuSans-101\"/>\r\n     <use x=\"1048.681641\" xlink:href=\"#DejaVuSans-45\"/>\r\n     <use x=\"1084.765625\" xlink:href=\"#DejaVuSans-48\"/>\r\n     <use x=\"1148.388672\" xlink:href=\"#DejaVuSans-53\"/>\r\n     <use x=\"1212.011719\" xlink:href=\"#DejaVuSans-95\"/>\r\n     <use x=\"1262.011719\" xlink:href=\"#DejaVuSans-114\"/>\r\n     <use x=\"1303.109375\" xlink:href=\"#DejaVuSans-104\"/>\r\n     <use x=\"1366.488281\" xlink:href=\"#DejaVuSans-111\"/>\r\n     <use x=\"1427.669922\" xlink:href=\"#DejaVuSans-48\"/>\r\n     <use x=\"1491.292969\" xlink:href=\"#DejaVuSans-46\"/>\r\n     <use x=\"1523.080078\" xlink:href=\"#DejaVuSans-57\"/>\r\n    </g>\r\n   </g>\r\n   <g id=\"legend_1\">\r\n    <g id=\"patch_7\">\r\n     <path d=\"M 266.6375 234.758125 \r\nL 362.040625 234.758125 \r\nQ 364.040625 234.758125 364.040625 232.758125 \r\nL 364.040625 204.401875 \r\nQ 364.040625 202.401875 362.040625 202.401875 \r\nL 266.6375 202.401875 \r\nQ 264.6375 202.401875 264.6375 204.401875 \r\nL 264.6375 232.758125 \r\nQ 264.6375 234.758125 266.6375 234.758125 \r\nz\r\n\" style=\"fill:#ffffff;opacity:0.8;stroke:#cccccc;stroke-linejoin:miter;\"/>\r\n    </g>\r\n    <g id=\"line2d_17\">\r\n     <path d=\"M 268.6375 210.500312 \r\nL 288.6375 210.500312 \r\n\" style=\"fill:none;stroke:#1f77b4;stroke-linecap:square;stroke-width:1.5;\"/>\r\n    </g>\r\n    <g id=\"line2d_18\"/>\r\n    <g id=\"text_18\">\r\n     <!-- MI estimate -->\r\n     <g transform=\"translate(296.6375 214.000312)scale(0.1 -0.1)\">\r\n      <use xlink:href=\"#DejaVuSans-77\"/>\r\n      <use x=\"86.279297\" xlink:href=\"#DejaVuSans-73\"/>\r\n      <use x=\"115.771484\" xlink:href=\"#DejaVuSans-32\"/>\r\n      <use x=\"147.558594\" xlink:href=\"#DejaVuSans-101\"/>\r\n      <use x=\"209.082031\" xlink:href=\"#DejaVuSans-115\"/>\r\n      <use x=\"261.181641\" xlink:href=\"#DejaVuSans-116\"/>\r\n      <use x=\"300.390625\" xlink:href=\"#DejaVuSans-105\"/>\r\n      <use x=\"328.173828\" xlink:href=\"#DejaVuSans-109\"/>\r\n      <use x=\"425.585938\" xlink:href=\"#DejaVuSans-97\"/>\r\n      <use x=\"486.865234\" xlink:href=\"#DejaVuSans-116\"/>\r\n      <use x=\"526.074219\" xlink:href=\"#DejaVuSans-101\"/>\r\n     </g>\r\n    </g>\r\n    <g id=\"line2d_19\">\r\n     <path d=\"M 268.6375 225.178437 \r\nL 288.6375 225.178437 \r\n\" style=\"fill:none;stroke:#ff0000;stroke-dasharray:5.55,2.4;stroke-dashoffset:0;stroke-width:1.5;\"/>\r\n    </g>\r\n    <g id=\"line2d_20\"/>\r\n    <g id=\"text_19\">\r\n     <!-- ground truth -->\r\n     <defs>\r\n      <path d=\"M 45.40625 27.984375 \r\nQ 45.40625 37.75 41.375 43.109375 \r\nQ 37.359375 48.484375 30.078125 48.484375 \r\nQ 22.859375 48.484375 18.828125 43.109375 \r\nQ 14.796875 37.75 14.796875 27.984375 \r\nQ 14.796875 18.265625 18.828125 12.890625 \r\nQ 22.859375 7.515625 30.078125 7.515625 \r\nQ 37.359375 7.515625 41.375 12.890625 \r\nQ 45.40625 18.265625 45.40625 27.984375 \r\nz\r\nM 54.390625 6.78125 \r\nQ 54.390625 -7.171875 48.1875 -13.984375 \r\nQ 42 -20.796875 29.203125 -20.796875 \r\nQ 24.46875 -20.796875 20.265625 -20.09375 \r\nQ 16.0625 -19.390625 12.109375 -17.921875 \r\nL 12.109375 -9.1875 \r\nQ 16.0625 -11.328125 19.921875 -12.34375 \r\nQ 23.78125 -13.375 27.78125 -13.375 \r\nQ 36.625 -13.375 41.015625 -8.765625 \r\nQ 45.40625 -4.15625 45.40625 5.171875 \r\nL 45.40625 9.625 \r\nQ 42.625 4.78125 38.28125 2.390625 \r\nQ 33.9375 0 27.875 0 \r\nQ 17.828125 0 11.671875 7.65625 \r\nQ 5.515625 15.328125 5.515625 27.984375 \r\nQ 5.515625 40.671875 11.671875 48.328125 \r\nQ 17.828125 56 27.875 56 \r\nQ 33.9375 56 38.28125 53.609375 \r\nQ 42.625 51.21875 45.40625 46.390625 \r\nL 45.40625 54.6875 \r\nL 54.390625 54.6875 \r\nz\r\n\" id=\"DejaVuSans-103\"/>\r\n     </defs>\r\n     <g transform=\"translate(296.6375 228.678437)scale(0.1 -0.1)\">\r\n      <use xlink:href=\"#DejaVuSans-103\"/>\r\n      <use x=\"63.476562\" xlink:href=\"#DejaVuSans-114\"/>\r\n      <use x=\"104.558594\" xlink:href=\"#DejaVuSans-111\"/>\r\n      <use x=\"165.740234\" xlink:href=\"#DejaVuSans-117\"/>\r\n      <use x=\"229.119141\" xlink:href=\"#DejaVuSans-110\"/>\r\n      <use x=\"292.498047\" xlink:href=\"#DejaVuSans-100\"/>\r\n      <use x=\"355.974609\" xlink:href=\"#DejaVuSans-32\"/>\r\n      <use x=\"387.761719\" xlink:href=\"#DejaVuSans-116\"/>\r\n      <use x=\"426.970703\" xlink:href=\"#DejaVuSans-114\"/>\r\n      <use x=\"468.083984\" xlink:href=\"#DejaVuSans-117\"/>\r\n      <use x=\"531.462891\" xlink:href=\"#DejaVuSans-116\"/>\r\n      <use x=\"570.671875\" xlink:href=\"#DejaVuSans-104\"/>\r\n     </g>\r\n    </g>\r\n   </g>\r\n  </g>\r\n </g>\r\n <defs>\r\n  <clipPath id=\"p1d4eed9ace\">\r\n   <rect height=\"217.44\" width=\"334.8\" x=\"34.240625\" y=\"22.318125\"/>\r\n  </clipPath>\r\n </defs>\r\n</svg>\r\n",
      "image/png": "[encoded data removed]"
     },
     "metadata": {
      "needs_background": "light"
     }
    }
   ],
   "source": [
    "plt.plot(mi_copy, label='MI estimate')\n",
    "plt.axhline(Ground_truth,label='ground truth',linestyle='--',color='red')\n",
    "for t in range(len(mi_copy)):\n",
    "    if (mi_copy[t]>.8*Ground_truth):\n",
    "        plt.axvline(t,label='80% reached',linestyle=':',color='green')\n",
    "        break\n",
    "plt.xlabel('number of iterations')\n",
    "plt.ylabel('MI estimation')\n",
    "plt.title('{}_d{}_clip{}_rho{}'.format(density, opt.d, opt.gamma, opt.rho))\n",
    "plt.legend()\n",
    "# plt.savefig('./results/DIEM/{}_d{}_clip{}_rho{}.pdf'.format(density, opt.d, opt.gamma, opt.rho))\n",
    "# plt.savefig('./results/DIEM/NoClip{}_d{}_smooth{}_rho{}.pdf'.format(density, opt.d, opt.confidence, opt.rho))"
   ]
  },
  {
   "source": [
    "Save the model"
   ],
   "cell_type": "markdown",
   "metadata": {}
  },
  {
   "cell_type": "code",
   "execution_count": 15,
   "metadata": {},
   "outputs": [],
   "source": [
    "torch.save(mi_copy, './InfoNCE{}.pth'.format(opt.sample_size))"
   ]
  }
 ],
 "metadata": {
  "kernelspec": {
   "display_name": "Python 3",
   "language": "python",
   "name": "python3"
  },
  "language_info": {
   "codemirror_mode": {
    "name": "ipython",
    "version": 3
   },
   "file_extension": ".py",
   "mimetype": "text/x-python",
   "name": "python",
   "nbconvert_exporter": "python",
   "pygments_lexer": "ipython3",
   "version": "3.7.4-final"
  },
  "toc": {
   "base_numbering": 1,
   "nav_menu": {},
   "number_sections": true,
   "sideBar": true,
   "skip_h1_title": false,
   "title_cell": "Table of Contents",
   "title_sidebar": "Contents",
   "toc_cell": false,
   "toc_position": {},
   "toc_section_display": true,
   "toc_window_display": false
  }
 },
 "nbformat": 4,
 "nbformat_minor": 2
}
